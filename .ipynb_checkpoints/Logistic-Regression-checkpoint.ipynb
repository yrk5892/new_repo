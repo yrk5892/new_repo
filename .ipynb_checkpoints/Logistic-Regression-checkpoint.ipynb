{
 "cells": [
  {
   "cell_type": "code",
   "execution_count": 67,
   "id": "f652ce3c",
   "metadata": {},
   "outputs": [],
   "source": [
    "import numpy as np\n",
    "import pandas as pd\n",
    "\n",
    "import matplotlib.pyplot as plt\n",
    "import seaborn as sns\n",
    "\n",
    "from sklearn.model_selection import train_test_split\n",
    "from sklearn.linear_model import LogisticRegression\n",
    "\n",
    "from sklearn.metrics import confusion_matrix, plot_confusion_matrix, classification_report\n",
    "from sklearn.metrics import precision_score, recall_score, f1_score, accuracy_score, multilabel_confusion_matrix\n",
    "from sklearn.metrics import roc_auc_score, roc_curve, precision_recall_curve\n",
    "\n",
    "import warnings\n",
    "warnings.filterwarnings('ignore')"
   ]
  },
  {
   "cell_type": "markdown",
   "id": "0d0c7888",
   "metadata": {},
   "source": [
    "## 1. Problem Statement"
   ]
  },
  {
   "cell_type": "code",
   "execution_count": null,
   "id": "f9516da4",
   "metadata": {},
   "outputs": [],
   "source": [
    "To Predict patient is having diabetes or not by using required parameteres\n",
    "\n",
    "'Glucose', 'BloodPressure', 'SkinThickness', 'Insulin', 'BMI',\n",
    "'DiabetesPedigreeFunction', 'Age'"
   ]
  },
  {
   "cell_type": "markdown",
   "id": "66118466",
   "metadata": {},
   "source": [
    "## 2. Data Gathering"
   ]
  },
  {
   "cell_type": "code",
   "execution_count": 4,
   "id": "d23ab9c5",
   "metadata": {},
   "outputs": [
    {
     "data": {
      "text/plain": [
       "Index(['Glucose', 'BloodPressure', 'SkinThickness', 'Insulin', 'BMI',\n",
       "       'DiabetesPedigreeFunction', 'Age', 'Outcome'],\n",
       "      dtype='object')"
      ]
     },
     "execution_count": 4,
     "metadata": {},
     "output_type": "execute_result"
    }
   ],
   "source": [
    "df_diab = pd.read_csv('diabetes.csv')\n",
    "df_diab.columns"
   ]
  },
  {
   "cell_type": "code",
   "execution_count": 5,
   "id": "fba7af54",
   "metadata": {},
   "outputs": [
    {
     "data": {
      "text/html": [
       "<div>\n",
       "<style scoped>\n",
       "    .dataframe tbody tr th:only-of-type {\n",
       "        vertical-align: middle;\n",
       "    }\n",
       "\n",
       "    .dataframe tbody tr th {\n",
       "        vertical-align: top;\n",
       "    }\n",
       "\n",
       "    .dataframe thead th {\n",
       "        text-align: right;\n",
       "    }\n",
       "</style>\n",
       "<table border=\"1\" class=\"dataframe\">\n",
       "  <thead>\n",
       "    <tr style=\"text-align: right;\">\n",
       "      <th></th>\n",
       "      <th>Glucose</th>\n",
       "      <th>BloodPressure</th>\n",
       "      <th>SkinThickness</th>\n",
       "      <th>Insulin</th>\n",
       "      <th>BMI</th>\n",
       "      <th>DiabetesPedigreeFunction</th>\n",
       "      <th>Age</th>\n",
       "      <th>Outcome</th>\n",
       "    </tr>\n",
       "  </thead>\n",
       "  <tbody>\n",
       "    <tr>\n",
       "      <th>0</th>\n",
       "      <td>148</td>\n",
       "      <td>50</td>\n",
       "      <td>35</td>\n",
       "      <td>0</td>\n",
       "      <td>33.6</td>\n",
       "      <td>0.627</td>\n",
       "      <td>50</td>\n",
       "      <td>1</td>\n",
       "    </tr>\n",
       "    <tr>\n",
       "      <th>1</th>\n",
       "      <td>85</td>\n",
       "      <td>66</td>\n",
       "      <td>29</td>\n",
       "      <td>0</td>\n",
       "      <td>26.6</td>\n",
       "      <td>0.351</td>\n",
       "      <td>31</td>\n",
       "      <td>0</td>\n",
       "    </tr>\n",
       "    <tr>\n",
       "      <th>2</th>\n",
       "      <td>183</td>\n",
       "      <td>64</td>\n",
       "      <td>0</td>\n",
       "      <td>0</td>\n",
       "      <td>23.3</td>\n",
       "      <td>0.672</td>\n",
       "      <td>52</td>\n",
       "      <td>1</td>\n",
       "    </tr>\n",
       "    <tr>\n",
       "      <th>3</th>\n",
       "      <td>150</td>\n",
       "      <td>66</td>\n",
       "      <td>23</td>\n",
       "      <td>94</td>\n",
       "      <td>28.1</td>\n",
       "      <td>0.167</td>\n",
       "      <td>21</td>\n",
       "      <td>0</td>\n",
       "    </tr>\n",
       "    <tr>\n",
       "      <th>4</th>\n",
       "      <td>150</td>\n",
       "      <td>40</td>\n",
       "      <td>35</td>\n",
       "      <td>168</td>\n",
       "      <td>43.1</td>\n",
       "      <td>2.288</td>\n",
       "      <td>33</td>\n",
       "      <td>1</td>\n",
       "    </tr>\n",
       "  </tbody>\n",
       "</table>\n",
       "</div>"
      ],
      "text/plain": [
       "   Glucose  BloodPressure  SkinThickness  Insulin   BMI  \\\n",
       "0      148             50             35        0  33.6   \n",
       "1       85             66             29        0  26.6   \n",
       "2      183             64              0        0  23.3   \n",
       "3      150             66             23       94  28.1   \n",
       "4      150             40             35      168  43.1   \n",
       "\n",
       "   DiabetesPedigreeFunction  Age  Outcome  \n",
       "0                     0.627   50        1  \n",
       "1                     0.351   31        0  \n",
       "2                     0.672   52        1  \n",
       "3                     0.167   21        0  \n",
       "4                     2.288   33        1  "
      ]
     },
     "execution_count": 5,
     "metadata": {},
     "output_type": "execute_result"
    }
   ],
   "source": [
    "df_diab.head()"
   ]
  },
  {
   "cell_type": "markdown",
   "id": "384c4887",
   "metadata": {},
   "source": [
    "## EDA"
   ]
  },
  {
   "cell_type": "code",
   "execution_count": 6,
   "id": "2f02266b",
   "metadata": {},
   "outputs": [
    {
     "name": "stdout",
     "output_type": "stream",
     "text": [
      "<class 'pandas.core.frame.DataFrame'>\n",
      "RangeIndex: 768 entries, 0 to 767\n",
      "Data columns (total 8 columns):\n",
      " #   Column                    Non-Null Count  Dtype  \n",
      "---  ------                    --------------  -----  \n",
      " 0   Glucose                   768 non-null    int64  \n",
      " 1   BloodPressure             768 non-null    int64  \n",
      " 2   SkinThickness             768 non-null    int64  \n",
      " 3   Insulin                   768 non-null    int64  \n",
      " 4   BMI                       768 non-null    float64\n",
      " 5   DiabetesPedigreeFunction  768 non-null    float64\n",
      " 6   Age                       768 non-null    int64  \n",
      " 7   Outcome                   768 non-null    int64  \n",
      "dtypes: float64(2), int64(6)\n",
      "memory usage: 48.1 KB\n"
     ]
    }
   ],
   "source": [
    "df_diab.info()"
   ]
  },
  {
   "cell_type": "code",
   "execution_count": 7,
   "id": "ebbd0bd9",
   "metadata": {},
   "outputs": [
    {
     "data": {
      "text/html": [
       "<div>\n",
       "<style scoped>\n",
       "    .dataframe tbody tr th:only-of-type {\n",
       "        vertical-align: middle;\n",
       "    }\n",
       "\n",
       "    .dataframe tbody tr th {\n",
       "        vertical-align: top;\n",
       "    }\n",
       "\n",
       "    .dataframe thead th {\n",
       "        text-align: right;\n",
       "    }\n",
       "</style>\n",
       "<table border=\"1\" class=\"dataframe\">\n",
       "  <thead>\n",
       "    <tr style=\"text-align: right;\">\n",
       "      <th></th>\n",
       "      <th>Glucose</th>\n",
       "      <th>BloodPressure</th>\n",
       "      <th>SkinThickness</th>\n",
       "      <th>Insulin</th>\n",
       "      <th>BMI</th>\n",
       "      <th>DiabetesPedigreeFunction</th>\n",
       "      <th>Age</th>\n",
       "      <th>Outcome</th>\n",
       "    </tr>\n",
       "  </thead>\n",
       "  <tbody>\n",
       "    <tr>\n",
       "      <th>count</th>\n",
       "      <td>768.000000</td>\n",
       "      <td>768.000000</td>\n",
       "      <td>768.000000</td>\n",
       "      <td>768.000000</td>\n",
       "      <td>768.000000</td>\n",
       "      <td>768.000000</td>\n",
       "      <td>768.000000</td>\n",
       "      <td>768.000000</td>\n",
       "    </tr>\n",
       "    <tr>\n",
       "      <th>mean</th>\n",
       "      <td>121.117188</td>\n",
       "      <td>69.076823</td>\n",
       "      <td>20.536458</td>\n",
       "      <td>79.799479</td>\n",
       "      <td>31.992578</td>\n",
       "      <td>0.471876</td>\n",
       "      <td>33.243490</td>\n",
       "      <td>0.348958</td>\n",
       "    </tr>\n",
       "    <tr>\n",
       "      <th>std</th>\n",
       "      <td>31.805091</td>\n",
       "      <td>19.367794</td>\n",
       "      <td>15.952218</td>\n",
       "      <td>115.244002</td>\n",
       "      <td>7.884160</td>\n",
       "      <td>0.331329</td>\n",
       "      <td>11.758182</td>\n",
       "      <td>0.476951</td>\n",
       "    </tr>\n",
       "    <tr>\n",
       "      <th>min</th>\n",
       "      <td>0.000000</td>\n",
       "      <td>0.000000</td>\n",
       "      <td>0.000000</td>\n",
       "      <td>0.000000</td>\n",
       "      <td>0.000000</td>\n",
       "      <td>0.078000</td>\n",
       "      <td>21.000000</td>\n",
       "      <td>0.000000</td>\n",
       "    </tr>\n",
       "    <tr>\n",
       "      <th>25%</th>\n",
       "      <td>99.000000</td>\n",
       "      <td>62.000000</td>\n",
       "      <td>0.000000</td>\n",
       "      <td>0.000000</td>\n",
       "      <td>27.300000</td>\n",
       "      <td>0.243750</td>\n",
       "      <td>24.000000</td>\n",
       "      <td>0.000000</td>\n",
       "    </tr>\n",
       "    <tr>\n",
       "      <th>50%</th>\n",
       "      <td>117.000000</td>\n",
       "      <td>72.000000</td>\n",
       "      <td>23.000000</td>\n",
       "      <td>30.500000</td>\n",
       "      <td>32.000000</td>\n",
       "      <td>0.372500</td>\n",
       "      <td>29.000000</td>\n",
       "      <td>0.000000</td>\n",
       "    </tr>\n",
       "    <tr>\n",
       "      <th>75%</th>\n",
       "      <td>142.000000</td>\n",
       "      <td>80.000000</td>\n",
       "      <td>32.000000</td>\n",
       "      <td>127.250000</td>\n",
       "      <td>36.600000</td>\n",
       "      <td>0.626250</td>\n",
       "      <td>41.000000</td>\n",
       "      <td>1.000000</td>\n",
       "    </tr>\n",
       "    <tr>\n",
       "      <th>max</th>\n",
       "      <td>199.000000</td>\n",
       "      <td>122.000000</td>\n",
       "      <td>99.000000</td>\n",
       "      <td>846.000000</td>\n",
       "      <td>67.100000</td>\n",
       "      <td>2.420000</td>\n",
       "      <td>81.000000</td>\n",
       "      <td>1.000000</td>\n",
       "    </tr>\n",
       "  </tbody>\n",
       "</table>\n",
       "</div>"
      ],
      "text/plain": [
       "          Glucose  BloodPressure  SkinThickness     Insulin         BMI  \\\n",
       "count  768.000000     768.000000     768.000000  768.000000  768.000000   \n",
       "mean   121.117188      69.076823      20.536458   79.799479   31.992578   \n",
       "std     31.805091      19.367794      15.952218  115.244002    7.884160   \n",
       "min      0.000000       0.000000       0.000000    0.000000    0.000000   \n",
       "25%     99.000000      62.000000       0.000000    0.000000   27.300000   \n",
       "50%    117.000000      72.000000      23.000000   30.500000   32.000000   \n",
       "75%    142.000000      80.000000      32.000000  127.250000   36.600000   \n",
       "max    199.000000     122.000000      99.000000  846.000000   67.100000   \n",
       "\n",
       "       DiabetesPedigreeFunction         Age     Outcome  \n",
       "count                768.000000  768.000000  768.000000  \n",
       "mean                   0.471876   33.243490    0.348958  \n",
       "std                    0.331329   11.758182    0.476951  \n",
       "min                    0.078000   21.000000    0.000000  \n",
       "25%                    0.243750   24.000000    0.000000  \n",
       "50%                    0.372500   29.000000    0.000000  \n",
       "75%                    0.626250   41.000000    1.000000  \n",
       "max                    2.420000   81.000000    1.000000  "
      ]
     },
     "execution_count": 7,
     "metadata": {},
     "output_type": "execute_result"
    }
   ],
   "source": [
    "df_diab.describe()"
   ]
  },
  {
   "cell_type": "markdown",
   "id": "2e44f463",
   "metadata": {},
   "source": [
    "### 3.1 Glucose"
   ]
  },
  {
   "cell_type": "code",
   "execution_count": 8,
   "id": "45c75341",
   "metadata": {},
   "outputs": [
    {
     "data": {
      "text/plain": [
       "<AxesSubplot:xlabel='Glucose'>"
      ]
     },
     "execution_count": 8,
     "metadata": {},
     "output_type": "execute_result"
    },
    {
     "data": {
      "image/png": "[encoded data removed]",
      "text/plain": [
       "<Figure size 640x480 with 1 Axes>"
      ]
     },
     "metadata": {},
     "output_type": "display_data"
    }
   ],
   "source": [
    "sns.boxplot(df_diab['Glucose'])"
   ]
  },
  {
   "cell_type": "code",
   "execution_count": 10,
   "id": "5eda765e",
   "metadata": {},
   "outputs": [
    {
     "data": {
      "text/plain": [
       "<AxesSubplot:>"
      ]
     },
     "execution_count": 10,
     "metadata": {},
     "output_type": "execute_result"
    },
    {
     "data": {
      "image/png": "[encoded data removed]",
      "text/plain": [
       "<Figure size 640x480 with 1 Axes>"
      ]
     },
     "metadata": {},
     "output_type": "display_data"
    }
   ],
   "source": [
    "df_diab[['Glucose']].boxplot()"
   ]
  },
  {
   "cell_type": "code",
   "execution_count": 11,
   "id": "6561e796",
   "metadata": {},
   "outputs": [
    {
     "data": {
      "text/plain": [
       "<AxesSubplot:xlabel='Glucose', ylabel='Density'>"
      ]
     },
     "execution_count": 11,
     "metadata": {},
     "output_type": "execute_result"
    },
    {
     "data": {
      "image/png": "[encoded data removed]",
      "text/plain": [
       "<Figure size 640x480 with 1 Axes>"
      ]
     },
     "metadata": {},
     "output_type": "display_data"
    }
   ],
   "source": [
    "sns.kdeplot(df_diab['Glucose'])"
   ]
  },
  {
   "cell_type": "code",
   "execution_count": 12,
   "id": "3f18efd7",
   "metadata": {},
   "outputs": [],
   "source": [
    "df_diab['Glucose'] = np.where(df_diab['Glucose'] < 25, df_diab['Glucose'].median(), df_diab['Glucose'])"
   ]
  },
  {
   "cell_type": "markdown",
   "id": "6852e419",
   "metadata": {},
   "source": [
    "### 3.2 BloodPressure"
   ]
  },
  {
   "cell_type": "code",
   "execution_count": 13,
   "id": "0a6d3625",
   "metadata": {},
   "outputs": [
    {
     "data": {
      "text/plain": [
       "<AxesSubplot:xlabel='BloodPressure'>"
      ]
     },
     "execution_count": 13,
     "metadata": {},
     "output_type": "execute_result"
    },
    {
     "data": {
      "image/png": "[encoded data removed]",
      "text/plain": [
       "<Figure size 640x480 with 1 Axes>"
      ]
     },
     "metadata": {},
     "output_type": "display_data"
    }
   ],
   "source": [
    "sns.boxplot(df_diab['BloodPressure'])"
   ]
  },
  {
   "cell_type": "code",
   "execution_count": 17,
   "id": "f10bc61a",
   "metadata": {},
   "outputs": [
    {
     "data": {
      "text/plain": [
       "(48, 8)"
      ]
     },
     "execution_count": 17,
     "metadata": {},
     "output_type": "execute_result"
    }
   ],
   "source": [
    "df_diab[~df_diab['BloodPressure'].between(35,105)].shape"
   ]
  },
  {
   "cell_type": "code",
   "execution_count": 18,
   "id": "18e94702",
   "metadata": {},
   "outputs": [],
   "source": [
    "df_diab['BloodPressure'] = np.where(~df_diab['BloodPressure'].between(35,105), df_diab['BloodPressure'].median(),\n",
    "                                   df_diab['BloodPressure'])"
   ]
  },
  {
   "cell_type": "code",
   "execution_count": 19,
   "id": "2b370cbf",
   "metadata": {},
   "outputs": [
    {
     "data": {
      "text/plain": [
       "<AxesSubplot:xlabel='BloodPressure'>"
      ]
     },
     "execution_count": 19,
     "metadata": {},
     "output_type": "execute_result"
    },
    {
     "data": {
      "image/png": "[encoded data removed]",
      "text/plain": [
       "<Figure size 640x480 with 1 Axes>"
      ]
     },
     "metadata": {},
     "output_type": "display_data"
    }
   ],
   "source": [
    "sns.boxplot(df_diab['BloodPressure'])"
   ]
  },
  {
   "cell_type": "markdown",
   "id": "74279bf2",
   "metadata": {},
   "source": [
    "### 3.3 SkinThickness"
   ]
  },
  {
   "cell_type": "code",
   "execution_count": 20,
   "id": "aecb9623",
   "metadata": {},
   "outputs": [
    {
     "data": {
      "text/plain": [
       "<AxesSubplot:xlabel='SkinThickness'>"
      ]
     },
     "execution_count": 20,
     "metadata": {},
     "output_type": "execute_result"
    },
    {
     "data": {
      "image/png": "[encoded data removed]",
      "text/plain": [
       "<Figure size 640x480 with 1 Axes>"
      ]
     },
     "metadata": {},
     "output_type": "display_data"
    }
   ],
   "source": [
    "sns.boxplot(df_diab['SkinThickness'])"
   ]
  },
  {
   "cell_type": "code",
   "execution_count": 21,
   "id": "1e256875",
   "metadata": {},
   "outputs": [],
   "source": [
    "df_diab['SkinThickness'] = np.where(df_diab['SkinThickness'] > 65, df_diab['SkinThickness'].median(), df_diab['SkinThickness'])"
   ]
  },
  {
   "cell_type": "markdown",
   "id": "a4d3a047",
   "metadata": {},
   "source": [
    "### 3.4 Insulin"
   ]
  },
  {
   "cell_type": "code",
   "execution_count": 22,
   "id": "30ad667d",
   "metadata": {},
   "outputs": [
    {
     "data": {
      "text/plain": [
       "<AxesSubplot:xlabel='Insulin'>"
      ]
     },
     "execution_count": 22,
     "metadata": {},
     "output_type": "execute_result"
    },
    {
     "data": {
      "image/png": "[encoded data removed]",
      "text/plain": [
       "<Figure size 640x480 with 1 Axes>"
      ]
     },
     "metadata": {},
     "output_type": "display_data"
    }
   ],
   "source": [
    "sns.boxplot(df_diab['Insulin'])"
   ]
  },
  {
   "cell_type": "code",
   "execution_count": 23,
   "id": "70a80944",
   "metadata": {},
   "outputs": [
    {
     "data": {
      "text/plain": [
       "(30, 8)"
      ]
     },
     "execution_count": 23,
     "metadata": {},
     "output_type": "execute_result"
    }
   ],
   "source": [
    "df_diab[df_diab['Insulin'] > 325].shape"
   ]
  },
  {
   "cell_type": "code",
   "execution_count": 24,
   "id": "b3632d16",
   "metadata": {},
   "outputs": [],
   "source": [
    "df_diab['Insulin'] = np.where(df_diab['Insulin']>325, df_diab['Insulin'].median(), df_diab['Insulin'])"
   ]
  },
  {
   "cell_type": "markdown",
   "id": "e6f422ef",
   "metadata": {},
   "source": [
    "### 3.5 BMI"
   ]
  },
  {
   "cell_type": "code",
   "execution_count": 26,
   "id": "719858de",
   "metadata": {},
   "outputs": [
    {
     "data": {
      "text/plain": [
       "<AxesSubplot:xlabel='BMI'>"
      ]
     },
     "execution_count": 26,
     "metadata": {},
     "output_type": "execute_result"
    },
    {
     "data": {
      "image/png": "[encoded data removed]",
      "text/plain": [
       "<Figure size 640x480 with 1 Axes>"
      ]
     },
     "metadata": {},
     "output_type": "display_data"
    }
   ],
   "source": [
    "sns.boxplot(df_diab['BMI'])"
   ]
  },
  {
   "cell_type": "code",
   "execution_count": 27,
   "id": "5c92dc66",
   "metadata": {},
   "outputs": [],
   "source": [
    "df_diab['BMI'] = np.where(~df_diab['BMI'].between(15,50), df_diab['BMI'].median(),df_diab['BMI'])"
   ]
  },
  {
   "cell_type": "markdown",
   "id": "e742e00e",
   "metadata": {},
   "source": [
    "### 3.6 DiabetesPedigreeFunction"
   ]
  },
  {
   "cell_type": "code",
   "execution_count": 28,
   "id": "2bc44b2b",
   "metadata": {},
   "outputs": [
    {
     "data": {
      "text/plain": [
       "<AxesSubplot:xlabel='DiabetesPedigreeFunction'>"
      ]
     },
     "execution_count": 28,
     "metadata": {},
     "output_type": "execute_result"
    },
    {
     "data": {
      "image/png": "[encoded data removed]",
      "text/plain": [
       "<Figure size 640x480 with 1 Axes>"
      ]
     },
     "metadata": {},
     "output_type": "display_data"
    }
   ],
   "source": [
    "sns.boxplot(df_diab['DiabetesPedigreeFunction'])"
   ]
  },
  {
   "cell_type": "code",
   "execution_count": 29,
   "id": "60c9aa6c",
   "metadata": {},
   "outputs": [],
   "source": [
    "df_diab['DiabetesPedigreeFunction'] = np.where(df_diab['DiabetesPedigreeFunction']>=1.2, \n",
    "                                               df_diab['DiabetesPedigreeFunction'].median(), \n",
    "                                               df_diab['DiabetesPedigreeFunction'])"
   ]
  },
  {
   "cell_type": "markdown",
   "id": "04737204",
   "metadata": {},
   "source": [
    "### 3.7 Age"
   ]
  },
  {
   "cell_type": "code",
   "execution_count": 30,
   "id": "f2b8c387",
   "metadata": {},
   "outputs": [
    {
     "data": {
      "text/plain": [
       "<AxesSubplot:xlabel='Age'>"
      ]
     },
     "execution_count": 30,
     "metadata": {},
     "output_type": "execute_result"
    },
    {
     "data": {
      "image/png": "[encoded data removed]",
      "text/plain": [
       "<Figure size 640x480 with 1 Axes>"
      ]
     },
     "metadata": {},
     "output_type": "display_data"
    }
   ],
   "source": [
    "sns.boxplot(df_diab['Age'])"
   ]
  },
  {
   "cell_type": "code",
   "execution_count": 31,
   "id": "9362cdeb",
   "metadata": {},
   "outputs": [],
   "source": [
    "df_diab['Age'] = np.where(df_diab['Age']>=66, df_diab['Age'].median(), df_diab['Age'])"
   ]
  },
  {
   "cell_type": "markdown",
   "id": "878d3217",
   "metadata": {},
   "source": [
    "### 3.8 Outcome"
   ]
  },
  {
   "cell_type": "code",
   "execution_count": 33,
   "id": "a954e714",
   "metadata": {},
   "outputs": [
    {
     "data": {
      "text/plain": [
       "0    500\n",
       "1    268\n",
       "Name: Outcome, dtype: int64"
      ]
     },
     "execution_count": 33,
     "metadata": {},
     "output_type": "execute_result"
    }
   ],
   "source": [
    "df_diab['Outcome'].value_counts()"
   ]
  },
  {
   "cell_type": "code",
   "execution_count": 34,
   "id": "dea1a095",
   "metadata": {},
   "outputs": [
    {
     "data": {
      "text/plain": [
       "0    0.651042\n",
       "1    0.348958\n",
       "Name: Outcome, dtype: float64"
      ]
     },
     "execution_count": 34,
     "metadata": {},
     "output_type": "execute_result"
    }
   ],
   "source": [
    "df_diab['Outcome'].value_counts(normalize=True)"
   ]
  },
  {
   "cell_type": "code",
   "execution_count": 37,
   "id": "649df06a",
   "metadata": {},
   "outputs": [
    {
     "data": {
      "text/plain": [
       "<AxesSubplot:ylabel='Outcome'>"
      ]
     },
     "execution_count": 37,
     "metadata": {},
     "output_type": "execute_result"
    },
    {
     "data": {
      "image/png": "[encoded data removed]",
      "text/plain": [
       "<Figure size 640x480 with 1 Axes>"
      ]
     },
     "metadata": {},
     "output_type": "display_data"
    }
   ],
   "source": [
    "df_diab['Outcome'].value_counts().plot(kind='pie', autopct ='%1.2f%%')"
   ]
  },
  {
   "cell_type": "markdown",
   "id": "a6b11f6a",
   "metadata": {},
   "source": [
    "## 4. Feature Engineering"
   ]
  },
  {
   "cell_type": "markdown",
   "id": "3354a818",
   "metadata": {},
   "source": [
    "## 5. Feature Selection"
   ]
  },
  {
   "cell_type": "markdown",
   "id": "9a58db38",
   "metadata": {},
   "source": [
    "#### 5.1 VIF"
   ]
  },
  {
   "cell_type": "code",
   "execution_count": 38,
   "id": "b26370b7",
   "metadata": {},
   "outputs": [],
   "source": [
    "from statsmodels.stats.outliers_influence import variance_inflation_factor"
   ]
  },
  {
   "cell_type": "code",
   "execution_count": 39,
   "id": "92a8f87e",
   "metadata": {},
   "outputs": [
    {
     "data": {
      "text/html": [
       "<div>\n",
       "<style scoped>\n",
       "    .dataframe tbody tr th:only-of-type {\n",
       "        vertical-align: middle;\n",
       "    }\n",
       "\n",
       "    .dataframe tbody tr th {\n",
       "        vertical-align: top;\n",
       "    }\n",
       "\n",
       "    .dataframe thead th {\n",
       "        text-align: right;\n",
       "    }\n",
       "</style>\n",
       "<table border=\"1\" class=\"dataframe\">\n",
       "  <thead>\n",
       "    <tr style=\"text-align: right;\">\n",
       "      <th></th>\n",
       "      <th>Glucose</th>\n",
       "      <th>BloodPressure</th>\n",
       "      <th>SkinThickness</th>\n",
       "      <th>Insulin</th>\n",
       "      <th>BMI</th>\n",
       "      <th>DiabetesPedigreeFunction</th>\n",
       "      <th>Age</th>\n",
       "    </tr>\n",
       "  </thead>\n",
       "  <tbody>\n",
       "    <tr>\n",
       "      <th>0</th>\n",
       "      <td>148.0</td>\n",
       "      <td>50.0</td>\n",
       "      <td>35.0</td>\n",
       "      <td>0.0</td>\n",
       "      <td>33.6</td>\n",
       "      <td>0.6270</td>\n",
       "      <td>50.0</td>\n",
       "    </tr>\n",
       "    <tr>\n",
       "      <th>1</th>\n",
       "      <td>85.0</td>\n",
       "      <td>66.0</td>\n",
       "      <td>29.0</td>\n",
       "      <td>0.0</td>\n",
       "      <td>26.6</td>\n",
       "      <td>0.3510</td>\n",
       "      <td>31.0</td>\n",
       "    </tr>\n",
       "    <tr>\n",
       "      <th>2</th>\n",
       "      <td>183.0</td>\n",
       "      <td>64.0</td>\n",
       "      <td>0.0</td>\n",
       "      <td>0.0</td>\n",
       "      <td>23.3</td>\n",
       "      <td>0.6720</td>\n",
       "      <td>52.0</td>\n",
       "    </tr>\n",
       "    <tr>\n",
       "      <th>3</th>\n",
       "      <td>150.0</td>\n",
       "      <td>66.0</td>\n",
       "      <td>23.0</td>\n",
       "      <td>94.0</td>\n",
       "      <td>28.1</td>\n",
       "      <td>0.1670</td>\n",
       "      <td>21.0</td>\n",
       "    </tr>\n",
       "    <tr>\n",
       "      <th>4</th>\n",
       "      <td>150.0</td>\n",
       "      <td>40.0</td>\n",
       "      <td>35.0</td>\n",
       "      <td>168.0</td>\n",
       "      <td>43.1</td>\n",
       "      <td>0.3725</td>\n",
       "      <td>33.0</td>\n",
       "    </tr>\n",
       "    <tr>\n",
       "      <th>...</th>\n",
       "      <td>...</td>\n",
       "      <td>...</td>\n",
       "      <td>...</td>\n",
       "      <td>...</td>\n",
       "      <td>...</td>\n",
       "      <td>...</td>\n",
       "      <td>...</td>\n",
       "    </tr>\n",
       "    <tr>\n",
       "      <th>763</th>\n",
       "      <td>101.0</td>\n",
       "      <td>76.0</td>\n",
       "      <td>48.0</td>\n",
       "      <td>180.0</td>\n",
       "      <td>32.9</td>\n",
       "      <td>0.1710</td>\n",
       "      <td>63.0</td>\n",
       "    </tr>\n",
       "    <tr>\n",
       "      <th>764</th>\n",
       "      <td>122.0</td>\n",
       "      <td>70.0</td>\n",
       "      <td>27.0</td>\n",
       "      <td>0.0</td>\n",
       "      <td>36.8</td>\n",
       "      <td>0.3400</td>\n",
       "      <td>27.0</td>\n",
       "    </tr>\n",
       "    <tr>\n",
       "      <th>765</th>\n",
       "      <td>121.0</td>\n",
       "      <td>72.0</td>\n",
       "      <td>23.0</td>\n",
       "      <td>112.0</td>\n",
       "      <td>26.2</td>\n",
       "      <td>0.2450</td>\n",
       "      <td>30.0</td>\n",
       "    </tr>\n",
       "    <tr>\n",
       "      <th>766</th>\n",
       "      <td>126.0</td>\n",
       "      <td>60.0</td>\n",
       "      <td>0.0</td>\n",
       "      <td>0.0</td>\n",
       "      <td>30.1</td>\n",
       "      <td>0.3490</td>\n",
       "      <td>47.0</td>\n",
       "    </tr>\n",
       "    <tr>\n",
       "      <th>767</th>\n",
       "      <td>93.0</td>\n",
       "      <td>70.0</td>\n",
       "      <td>31.0</td>\n",
       "      <td>0.0</td>\n",
       "      <td>30.4</td>\n",
       "      <td>0.3150</td>\n",
       "      <td>23.0</td>\n",
       "    </tr>\n",
       "  </tbody>\n",
       "</table>\n",
       "<p>768 rows × 7 columns</p>\n",
       "</div>"
      ],
      "text/plain": [
       "     Glucose  BloodPressure  SkinThickness  Insulin   BMI  \\\n",
       "0      148.0           50.0           35.0      0.0  33.6   \n",
       "1       85.0           66.0           29.0      0.0  26.6   \n",
       "2      183.0           64.0            0.0      0.0  23.3   \n",
       "3      150.0           66.0           23.0     94.0  28.1   \n",
       "4      150.0           40.0           35.0    168.0  43.1   \n",
       "..       ...            ...            ...      ...   ...   \n",
       "763    101.0           76.0           48.0    180.0  32.9   \n",
       "764    122.0           70.0           27.0      0.0  36.8   \n",
       "765    121.0           72.0           23.0    112.0  26.2   \n",
       "766    126.0           60.0            0.0      0.0  30.1   \n",
       "767     93.0           70.0           31.0      0.0  30.4   \n",
       "\n",
       "     DiabetesPedigreeFunction   Age  \n",
       "0                      0.6270  50.0  \n",
       "1                      0.3510  31.0  \n",
       "2                      0.6720  52.0  \n",
       "3                      0.1670  21.0  \n",
       "4                      0.3725  33.0  \n",
       "..                        ...   ...  \n",
       "763                    0.1710  63.0  \n",
       "764                    0.3400  27.0  \n",
       "765                    0.2450  30.0  \n",
       "766                    0.3490  47.0  \n",
       "767                    0.3150  23.0  \n",
       "\n",
       "[768 rows x 7 columns]"
      ]
     },
     "execution_count": 39,
     "metadata": {},
     "output_type": "execute_result"
    }
   ],
   "source": [
    "x = df_diab.drop('Outcome', axis = 1)\n",
    "x"
   ]
  },
  {
   "cell_type": "code",
   "execution_count": 40,
   "id": "e02a8cbd",
   "metadata": {},
   "outputs": [
    {
     "data": {
      "text/plain": [
       "34.14955721193949"
      ]
     },
     "execution_count": 40,
     "metadata": {},
     "output_type": "execute_result"
    }
   ],
   "source": [
    "variance_inflation_factor(x.values, 1)"
   ]
  },
  {
   "cell_type": "code",
   "execution_count": 44,
   "id": "8d3bcc17",
   "metadata": {},
   "outputs": [
    {
     "data": {
      "text/plain": [
       "<AxesSubplot:>"
      ]
     },
     "execution_count": 44,
     "metadata": {},
     "output_type": "execute_result"
    },
    {
     "data": {
      "image/png": "[encoded data removed]",
      "text/plain": [
       "<Figure size 640x480 with 1 Axes>"
      ]
     },
     "metadata": {},
     "output_type": "display_data"
    }
   ],
   "source": [
    "vif_list = []\n",
    "for i in range(x.shape[1]):\n",
    "    vif = variance_inflation_factor(x.values, i)\n",
    "    vif_list.append(round(vif, 2))\n",
    "    \n",
    "s1 = pd.Series(vif_list, index = x.columns)\n",
    "s1.sort_values().plot(kind='barh')"
   ]
  },
  {
   "cell_type": "code",
   "execution_count": 47,
   "id": "021677b4",
   "metadata": {},
   "outputs": [
    {
     "data": {
      "text/html": [
       "<div>\n",
       "<style scoped>\n",
       "    .dataframe tbody tr th:only-of-type {\n",
       "        vertical-align: middle;\n",
       "    }\n",
       "\n",
       "    .dataframe tbody tr th {\n",
       "        vertical-align: top;\n",
       "    }\n",
       "\n",
       "    .dataframe thead th {\n",
       "        text-align: right;\n",
       "    }\n",
       "</style>\n",
       "<table border=\"1\" class=\"dataframe\">\n",
       "  <thead>\n",
       "    <tr style=\"text-align: right;\">\n",
       "      <th></th>\n",
       "      <th>Glucose</th>\n",
       "      <th>BloodPressure</th>\n",
       "      <th>SkinThickness</th>\n",
       "      <th>Insulin</th>\n",
       "      <th>BMI</th>\n",
       "      <th>DiabetesPedigreeFunction</th>\n",
       "      <th>Age</th>\n",
       "      <th>Outcome</th>\n",
       "    </tr>\n",
       "  </thead>\n",
       "  <tbody>\n",
       "    <tr>\n",
       "      <th>Outcome</th>\n",
       "      <td>0.489446</td>\n",
       "      <td>0.16432</td>\n",
       "      <td>0.067344</td>\n",
       "      <td>0.091948</td>\n",
       "      <td>0.300615</td>\n",
       "      <td>0.151994</td>\n",
       "      <td>0.267032</td>\n",
       "      <td>1.0</td>\n",
       "    </tr>\n",
       "  </tbody>\n",
       "</table>\n",
       "</div>"
      ],
      "text/plain": [
       "          Glucose  BloodPressure  SkinThickness   Insulin       BMI  \\\n",
       "Outcome  0.489446        0.16432       0.067344  0.091948  0.300615   \n",
       "\n",
       "         DiabetesPedigreeFunction       Age  Outcome  \n",
       "Outcome                  0.151994  0.267032      1.0  "
      ]
     },
     "execution_count": 47,
     "metadata": {},
     "output_type": "execute_result"
    }
   ],
   "source": [
    "df_diab.corr().tail(1)"
   ]
  },
  {
   "cell_type": "markdown",
   "id": "75916938",
   "metadata": {},
   "source": [
    "## 6. Model Building"
   ]
  },
  {
   "cell_type": "markdown",
   "id": "b2cd8a80",
   "metadata": {},
   "source": [
    "### 6.1 Train Test Split"
   ]
  },
  {
   "cell_type": "code",
   "execution_count": 48,
   "id": "8dd6d04e",
   "metadata": {},
   "outputs": [],
   "source": [
    "x = df_diab.drop('Outcome',axis=1)\n",
    "y = df_diab['Outcome']"
   ]
  },
  {
   "cell_type": "code",
   "execution_count": 49,
   "id": "8477ac08",
   "metadata": {},
   "outputs": [
    {
     "data": {
      "text/plain": [
       "0    500\n",
       "1    268\n",
       "Name: Outcome, dtype: int64"
      ]
     },
     "execution_count": 49,
     "metadata": {},
     "output_type": "execute_result"
    }
   ],
   "source": [
    "y.value_counts()"
   ]
  },
  {
   "cell_type": "code",
   "execution_count": 50,
   "id": "a47579cd",
   "metadata": {},
   "outputs": [
    {
     "data": {
      "text/plain": [
       "0    0.651042\n",
       "1    0.348958\n",
       "Name: Outcome, dtype: float64"
      ]
     },
     "execution_count": 50,
     "metadata": {},
     "output_type": "execute_result"
    }
   ],
   "source": [
    "y.value_counts(normalize=True)"
   ]
  },
  {
   "cell_type": "code",
   "execution_count": 51,
   "id": "57c26078",
   "metadata": {},
   "outputs": [
    {
     "data": {
      "text/plain": [
       "0.6510416666666666"
      ]
     },
     "execution_count": 51,
     "metadata": {},
     "output_type": "execute_result"
    }
   ],
   "source": [
    "500/(500+268)"
   ]
  },
  {
   "cell_type": "code",
   "execution_count": 58,
   "id": "9c52da3a",
   "metadata": {},
   "outputs": [],
   "source": [
    "x_train, x_test, y_train, y_test = train_test_split(x, y, test_size=0.2, random_state=2, stratify=y)"
   ]
  },
  {
   "cell_type": "code",
   "execution_count": 53,
   "id": "3fec58ac",
   "metadata": {},
   "outputs": [
    {
     "data": {
      "text/plain": [
       "214.4"
      ]
     },
     "execution_count": 53,
     "metadata": {},
     "output_type": "execute_result"
    }
   ],
   "source": [
    "268*0.8"
   ]
  },
  {
   "cell_type": "code",
   "execution_count": null,
   "id": "f69ea148",
   "metadata": {},
   "outputs": [],
   "source": [
    "Training >> 80%\n",
    "Testing >> 20 %"
   ]
  },
  {
   "cell_type": "code",
   "execution_count": 59,
   "id": "5cbea8fa",
   "metadata": {},
   "outputs": [
    {
     "data": {
      "text/plain": [
       "0    0.649351\n",
       "1    0.350649\n",
       "Name: Outcome, dtype: float64"
      ]
     },
     "execution_count": 59,
     "metadata": {},
     "output_type": "execute_result"
    }
   ],
   "source": [
    "y_test.value_counts(normalize=True)"
   ]
  },
  {
   "cell_type": "code",
   "execution_count": 60,
   "id": "9bbfd174",
   "metadata": {},
   "outputs": [
    {
     "data": {
      "text/plain": [
       "0    0.651466\n",
       "1    0.348534\n",
       "Name: Outcome, dtype: float64"
      ]
     },
     "execution_count": 60,
     "metadata": {},
     "output_type": "execute_result"
    }
   ],
   "source": [
    "y_train.value_counts(normalize=True)"
   ]
  },
  {
   "cell_type": "code",
   "execution_count": 63,
   "id": "2af270fd",
   "metadata": {},
   "outputs": [
    {
     "data": {
      "text/html": [
       "<div>\n",
       "<style scoped>\n",
       "    .dataframe tbody tr th:only-of-type {\n",
       "        vertical-align: middle;\n",
       "    }\n",
       "\n",
       "    .dataframe tbody tr th {\n",
       "        vertical-align: top;\n",
       "    }\n",
       "\n",
       "    .dataframe thead th {\n",
       "        text-align: right;\n",
       "    }\n",
       "</style>\n",
       "<table border=\"1\" class=\"dataframe\">\n",
       "  <thead>\n",
       "    <tr style=\"text-align: right;\">\n",
       "      <th></th>\n",
       "      <th>Glucose</th>\n",
       "      <th>BloodPressure</th>\n",
       "      <th>SkinThickness</th>\n",
       "      <th>Insulin</th>\n",
       "      <th>BMI</th>\n",
       "      <th>DiabetesPedigreeFunction</th>\n",
       "      <th>Age</th>\n",
       "    </tr>\n",
       "  </thead>\n",
       "  <tbody>\n",
       "    <tr>\n",
       "      <th>615</th>\n",
       "      <td>106.0</td>\n",
       "      <td>72.0</td>\n",
       "      <td>0.0</td>\n",
       "      <td>0.0</td>\n",
       "      <td>25.8</td>\n",
       "      <td>0.207</td>\n",
       "      <td>27.0</td>\n",
       "    </tr>\n",
       "    <tr>\n",
       "      <th>80</th>\n",
       "      <td>113.0</td>\n",
       "      <td>44.0</td>\n",
       "      <td>13.0</td>\n",
       "      <td>0.0</td>\n",
       "      <td>22.4</td>\n",
       "      <td>0.140</td>\n",
       "      <td>22.0</td>\n",
       "    </tr>\n",
       "    <tr>\n",
       "      <th>148</th>\n",
       "      <td>147.0</td>\n",
       "      <td>78.0</td>\n",
       "      <td>0.0</td>\n",
       "      <td>0.0</td>\n",
       "      <td>33.7</td>\n",
       "      <td>0.218</td>\n",
       "      <td>65.0</td>\n",
       "    </tr>\n",
       "    <tr>\n",
       "      <th>132</th>\n",
       "      <td>170.0</td>\n",
       "      <td>64.0</td>\n",
       "      <td>37.0</td>\n",
       "      <td>225.0</td>\n",
       "      <td>34.5</td>\n",
       "      <td>0.356</td>\n",
       "      <td>30.0</td>\n",
       "    </tr>\n",
       "    <tr>\n",
       "      <th>501</th>\n",
       "      <td>84.0</td>\n",
       "      <td>72.0</td>\n",
       "      <td>32.0</td>\n",
       "      <td>0.0</td>\n",
       "      <td>37.2</td>\n",
       "      <td>0.267</td>\n",
       "      <td>28.0</td>\n",
       "    </tr>\n",
       "  </tbody>\n",
       "</table>\n",
       "</div>"
      ],
      "text/plain": [
       "     Glucose  BloodPressure  SkinThickness  Insulin   BMI  \\\n",
       "615    106.0           72.0            0.0      0.0  25.8   \n",
       "80     113.0           44.0           13.0      0.0  22.4   \n",
       "148    147.0           78.0            0.0      0.0  33.7   \n",
       "132    170.0           64.0           37.0    225.0  34.5   \n",
       "501     84.0           72.0           32.0      0.0  37.2   \n",
       "\n",
       "     DiabetesPedigreeFunction   Age  \n",
       "615                     0.207  27.0  \n",
       "80                      0.140  22.0  \n",
       "148                     0.218  65.0  \n",
       "132                     0.356  30.0  \n",
       "501                     0.267  28.0  "
      ]
     },
     "execution_count": 63,
     "metadata": {},
     "output_type": "execute_result"
    }
   ],
   "source": [
    "x_test.head()"
   ]
  },
  {
   "cell_type": "code",
   "execution_count": 64,
   "id": "aaa5fcae",
   "metadata": {},
   "outputs": [
    {
     "data": {
      "text/plain": [
       "615    0\n",
       "80     0\n",
       "148    0\n",
       "132    1\n",
       "501    0\n",
       "Name: Outcome, dtype: int64"
      ]
     },
     "execution_count": 64,
     "metadata": {},
     "output_type": "execute_result"
    }
   ],
   "source": [
    "y_test.head()"
   ]
  },
  {
   "cell_type": "markdown",
   "id": "6a2dfb63",
   "metadata": {},
   "source": [
    "## Model Instatiation"
   ]
  },
  {
   "cell_type": "code",
   "execution_count": 68,
   "id": "c6f1501d",
   "metadata": {},
   "outputs": [
    {
     "data": {
      "text/html": [
       "<style>#sk-container-id-1 {color: black;background-color: white;}#sk-container-id-1 pre{padding: 0;}#sk-container-id-1 div.sk-toggleable {background-color: white;}#sk-container-id-1 label.sk-toggleable__label {cursor: pointer;display: block;width: 100%;margin-bottom: 0;padding: 0.3em;box-sizing: border-box;text-align: center;}#sk-container-id-1 label.sk-toggleable__label-arrow:before {content: \"▸\";float: left;margin-right: 0.25em;color: #696969;}#sk-container-id-1 label.sk-toggleable__label-arrow:hover:before {color: black;}#sk-container-id-1 div.sk-estimator:hover label.sk-toggleable__label-arrow:before {color: black;}#sk-container-id-1 div.sk-toggleable__content {max-height: 0;max-width: 0;overflow: hidden;text-align: left;background-color: #f0f8ff;}#sk-container-id-1 div.sk-toggleable__content pre {margin: 0.2em;color: black;border-radius: 0.25em;background-color: #f0f8ff;}#sk-container-id-1 input.sk-toggleable__control:checked~div.sk-toggleable__content {max-height: 200px;max-width: 100%;overflow: auto;}#sk-container-id-1 input.sk-toggleable__control:checked~label.sk-toggleable__label-arrow:before {content: \"▾\";}#sk-container-id-1 div.sk-estimator input.sk-toggleable__control:checked~label.sk-toggleable__label {background-color: #d4ebff;}#sk-container-id-1 div.sk-label input.sk-toggleable__control:checked~label.sk-toggleable__label {background-color: #d4ebff;}#sk-container-id-1 input.sk-hidden--visually {border: 0;clip: rect(1px 1px 1px 1px);clip: rect(1px, 1px, 1px, 1px);height: 1px;margin: -1px;overflow: hidden;padding: 0;position: absolute;width: 1px;}#sk-container-id-1 div.sk-estimator {font-family: monospace;background-color: #f0f8ff;border: 1px dotted black;border-radius: 0.25em;box-sizing: border-box;margin-bottom: 0.5em;}#sk-container-id-1 div.sk-estimator:hover {background-color: #d4ebff;}#sk-container-id-1 div.sk-parallel-item::after {content: \"\";width: 100%;border-bottom: 1px solid gray;flex-grow: 1;}#sk-container-id-1 div.sk-label:hover label.sk-toggleable__label {background-color: #d4ebff;}#sk-container-id-1 div.sk-serial::before {content: \"\";position: absolute;border-left: 1px solid gray;box-sizing: border-box;top: 0;bottom: 0;left: 50%;z-index: 0;}#sk-container-id-1 div.sk-serial {display: flex;flex-direction: column;align-items: center;background-color: white;padding-right: 0.2em;padding-left: 0.2em;position: relative;}#sk-container-id-1 div.sk-item {position: relative;z-index: 1;}#sk-container-id-1 div.sk-parallel {display: flex;align-items: stretch;justify-content: center;background-color: white;position: relative;}#sk-container-id-1 div.sk-item::before, #sk-container-id-1 div.sk-parallel-item::before {content: \"\";position: absolute;border-left: 1px solid gray;box-sizing: border-box;top: 0;bottom: 0;left: 50%;z-index: -1;}#sk-container-id-1 div.sk-parallel-item {display: flex;flex-direction: column;z-index: 1;position: relative;background-color: white;}#sk-container-id-1 div.sk-parallel-item:first-child::after {align-self: flex-end;width: 50%;}#sk-container-id-1 div.sk-parallel-item:last-child::after {align-self: flex-start;width: 50%;}#sk-container-id-1 div.sk-parallel-item:only-child::after {width: 0;}#sk-container-id-1 div.sk-dashed-wrapped {border: 1px dashed gray;margin: 0 0.4em 0.5em 0.4em;box-sizing: border-box;padding-bottom: 0.4em;background-color: white;}#sk-container-id-1 div.sk-label label {font-family: monospace;font-weight: bold;display: inline-block;line-height: 1.2em;}#sk-container-id-1 div.sk-label-container {text-align: center;}#sk-container-id-1 div.sk-container {/* jupyter's `normalize.less` sets `[hidden] { display: none; }` but bootstrap.min.css set `[hidden] { display: none !important; }` so we also need the `!important` here to be able to override the default hidden behavior on the sphinx rendered scikit-learn.org. See: https://github.com/scikit-learn/scikit-learn/issues/21755 */display: inline-block !important;position: relative;}#sk-container-id-1 div.sk-text-repr-fallback {display: none;}</style><div id=\"sk-container-id-1\" class=\"sk-top-container\"><div class=\"sk-text-repr-fallback\"><pre>LogisticRegression()</pre><b>In a Jupyter environment, please rerun this cell to show the HTML representation or trust the notebook. <br />On GitHub, the HTML representation is unable to render, please try loading this page with nbviewer.org.</b></div><div class=\"sk-container\" hidden><div class=\"sk-item\"><div class=\"sk-estimator sk-toggleable\"><input class=\"sk-toggleable__control sk-hidden--visually\" id=\"sk-estimator-id-1\" type=\"checkbox\" checked><label for=\"sk-estimator-id-1\" class=\"sk-toggleable__label sk-toggleable__label-arrow\">LogisticRegression</label><div class=\"sk-toggleable__content\"><pre>LogisticRegression()</pre></div></div></div></div></div>"
      ],
      "text/plain": [
       "LogisticRegression()"
      ]
     },
     "execution_count": 68,
     "metadata": {},
     "output_type": "execute_result"
    }
   ],
   "source": [
    "log_clf = LogisticRegression()\n",
    "log_clf.fit(x_train, y_train)"
   ]
  },
  {
   "cell_type": "code",
   "execution_count": 69,
   "id": "852db3d8",
   "metadata": {},
   "outputs": [
    {
     "data": {
      "text/plain": [
       "array([[ 3.62365969e-02, -1.88548740e-03, -2.00369242e-03,\n",
       "        -7.76581457e-04,  1.00156556e-01,  1.01286114e+00,\n",
       "         4.26024640e-02]])"
      ]
     },
     "execution_count": 69,
     "metadata": {},
     "output_type": "execute_result"
    }
   ],
   "source": [
    "log_clf.coef_"
   ]
  },
  {
   "cell_type": "markdown",
   "id": "f4407abf",
   "metadata": {},
   "source": [
    "## Evaluation"
   ]
  },
  {
   "cell_type": "code",
   "execution_count": 73,
   "id": "ca2750fb",
   "metadata": {},
   "outputs": [
    {
     "name": "stdout",
     "output_type": "stream",
     "text": [
      "***************Test Data Evaluation***************\n",
      "Accuracy Score : 0.7532467532467533\n",
      "****************************************\n",
      "Confusion Matrix: \n",
      " [[89 11]\n",
      " [27 27]]\n",
      "****************************************\n",
      "Classification Report : \n",
      "               precision    recall  f1-score   support\n",
      "\n",
      "           0       0.77      0.89      0.82       100\n",
      "           1       0.71      0.50      0.59        54\n",
      "\n",
      "    accuracy                           0.75       154\n",
      "   macro avg       0.74      0.70      0.71       154\n",
      "weighted avg       0.75      0.75      0.74       154\n",
      "\n",
      "****************************************\n"
     ]
    }
   ],
   "source": [
    "def evaluation(string, model, ind_var, act):\n",
    "    print(string.center(50, '*'))\n",
    "    pred = model.predict(ind_var)\n",
    "    \n",
    "    acc_score = accuracy_score(act, pred)\n",
    "    print('Accuracy Score :', acc_score)\n",
    "    print('**'*20)\n",
    "    \n",
    "    cnf_matrix = confusion_matrix(act, pred)\n",
    "    print('Confusion Matrix: \\n', cnf_matrix)\n",
    "    print('**'*20)\n",
    "    \n",
    "    clf_report = classification_report(act, pred)\n",
    "    print('Classification Report : \\n', clf_report)\n",
    "    print('**'*20)\n",
    "    \n",
    "    return pred\n",
    "    \n",
    "y_pred = evaluation('Test Data Evaluation',log_clf, x_test, y_test)    "
   ]
  },
  {
   "cell_type": "code",
   "execution_count": null,
   "id": "e8e3076d",
   "metadata": {},
   "outputs": [],
   "source": [
    "0 >> neg\n",
    "1 >> pos\n",
    "\n",
    "TN FP\n",
    "FN TP\n",
    "\n",
    "\n",
    "     0    1\n",
    "0    89  11\n",
    "1    27  27\n",
    "\n",
    "\n",
    "acc = (89+27)/154\n",
    "acc"
   ]
  },
  {
   "cell_type": "code",
   "execution_count": 74,
   "id": "d62b0bfc",
   "metadata": {},
   "outputs": [
    {
     "data": {
      "text/plain": [
       "0.7105263157894737"
      ]
     },
     "execution_count": 74,
     "metadata": {},
     "output_type": "execute_result"
    }
   ],
   "source": [
    "precision =  27/(27+11)          # Precision for class 1\n",
    "precision"
   ]
  },
  {
   "cell_type": "code",
   "execution_count": 75,
   "id": "634860a1",
   "metadata": {},
   "outputs": [
    {
     "data": {
      "text/plain": [
       "0.7672413793103449"
      ]
     },
     "execution_count": 75,
     "metadata": {},
     "output_type": "execute_result"
    }
   ],
   "source": [
    "precision =  89/(89+27)          # Precision for class 0\n",
    "precision"
   ]
  },
  {
   "cell_type": "code",
   "execution_count": 76,
   "id": "a7fc8eff",
   "metadata": {},
   "outputs": [
    {
     "data": {
      "text/plain": [
       "0.5"
      ]
     },
     "execution_count": 76,
     "metadata": {},
     "output_type": "execute_result"
    }
   ],
   "source": [
    "recall =  27/(27+27)          # recall for class 1\n",
    "recall"
   ]
  },
  {
   "cell_type": "code",
   "execution_count": 77,
   "id": "ea5725e3",
   "metadata": {},
   "outputs": [
    {
     "data": {
      "text/plain": [
       "0.89"
      ]
     },
     "execution_count": 77,
     "metadata": {},
     "output_type": "execute_result"
    }
   ],
   "source": [
    "recall =  89/(89+11)          # recall for class 0\n",
    "recall"
   ]
  },
  {
   "cell_type": "code",
   "execution_count": 78,
   "id": "284fd118",
   "metadata": {},
   "outputs": [
    {
     "data": {
      "text/plain": [
       "0.5867768595041322"
      ]
     },
     "execution_count": 78,
     "metadata": {},
     "output_type": "execute_result"
    }
   ],
   "source": [
    "f1 = (2 * 0.71 *0.5)/(0.71+0.5)                            # f1 for class 1\n",
    "f1"
   ]
  },
  {
   "cell_type": "code",
   "execution_count": 79,
   "id": "95b1f13a",
   "metadata": {},
   "outputs": [
    {
     "data": {
      "text/plain": [
       "0.8198787878787879"
      ]
     },
     "execution_count": 79,
     "metadata": {},
     "output_type": "execute_result"
    }
   ],
   "source": [
    "f1 = (2 * 0.76 *0.89)/(0.76+0.89)                            # f1 for class 0\n",
    "f1"
   ]
  },
  {
   "cell_type": "code",
   "execution_count": 80,
   "id": "f479e9af",
   "metadata": {},
   "outputs": [
    {
     "name": "stdout",
     "output_type": "stream",
     "text": [
      "**************Train Data Evaluation***************\n",
      "Accuracy Score : 0.7801302931596091\n",
      "****************************************\n",
      "Confusion Matrix: \n",
      " [[350  50]\n",
      " [ 85 129]]\n",
      "****************************************\n",
      "Classification Report : \n",
      "               precision    recall  f1-score   support\n",
      "\n",
      "           0       0.80      0.88      0.84       400\n",
      "           1       0.72      0.60      0.66       214\n",
      "\n",
      "    accuracy                           0.78       614\n",
      "   macro avg       0.76      0.74      0.75       614\n",
      "weighted avg       0.78      0.78      0.77       614\n",
      "\n",
      "****************************************\n"
     ]
    }
   ],
   "source": [
    "y_pred_train = evaluation('Train Data Evaluation',log_clf, x_train, y_train)    "
   ]
  },
  {
   "cell_type": "markdown",
   "id": "a9bbc5e7",
   "metadata": {},
   "source": [
    "## 8. Macro avg"
   ]
  },
  {
   "cell_type": "code",
   "execution_count": null,
   "id": "db15436a",
   "metadata": {},
   "outputs": [],
   "source": [
    "Macro avg >> Treat evry class equally\n",
    "\n",
    "Balanced data\n",
    "\n",
    "if working with imbalance data >> all the classes are equally\n",
    "\n",
    "Calculates arithmatic mean(simple mean)\n",
    "If uses f1 score"
   ]
  },
  {
   "cell_type": "code",
   "execution_count": 81,
   "id": "90f68fba",
   "metadata": {},
   "outputs": [
    {
     "data": {
      "text/plain": [
       "0.75"
      ]
     },
     "execution_count": 81,
     "metadata": {},
     "output_type": "execute_result"
    }
   ],
   "source": [
    "(0.84+ 0.66)/2"
   ]
  },
  {
   "cell_type": "markdown",
   "id": "2270a58e",
   "metadata": {},
   "source": [
    "## Weighted avg"
   ]
  },
  {
   "cell_type": "code",
   "execution_count": null,
   "id": "d35ff8fd",
   "metadata": {},
   "outputs": [],
   "source": [
    "Weighted avg >> Imbalnce Data\n",
    "\n",
    "if working with imabalnce data >> where classes need to be given more weights"
   ]
  },
  {
   "cell_type": "code",
   "execution_count": null,
   "id": "b1d2750a",
   "metadata": {},
   "outputs": [],
   "source": [
    "      f1    support      support proportion   weighted avg\n",
    "0    0.84     400              0.65\n",
    "1    0.66     214              0.35           (0.84*0.65) + (0.66*0.35)"
   ]
  },
  {
   "cell_type": "code",
   "execution_count": 82,
   "id": "364831cd",
   "metadata": {},
   "outputs": [
    {
     "data": {
      "text/plain": [
       "0.777"
      ]
     },
     "execution_count": 82,
     "metadata": {},
     "output_type": "execute_result"
    }
   ],
   "source": [
    "(0.84*0.65) + (0.66*0.35)"
   ]
  },
  {
   "cell_type": "code",
   "execution_count": 83,
   "id": "7ddb1130",
   "metadata": {},
   "outputs": [
    {
     "data": {
      "text/plain": [
       "0.782"
      ]
     },
     "execution_count": 83,
     "metadata": {},
     "output_type": "execute_result"
    }
   ],
   "source": [
    "(0.88*0.65) + (0.60*0.35)"
   ]
  },
  {
   "cell_type": "code",
   "execution_count": 87,
   "id": "28e3a8d8",
   "metadata": {},
   "outputs": [
    {
     "data": {
      "text/plain": [
       "<AxesSubplot:>"
      ]
     },
     "execution_count": 87,
     "metadata": {},
     "output_type": "execute_result"
    },
    {
     "data": {
      "image/png": "[encoded data removed]",
      "text/plain": [
       "<Figure size 400x300 with 2 Axes>"
      ]
     },
     "metadata": {},
     "output_type": "display_data"
    }
   ],
   "source": [
    "plt.figure(figsize=(4,3))\n",
    "cnf_matrix =  confusion_matrix(y_test, y_pred)\n",
    "sns.heatmap(cnf_matrix, annot=True)"
   ]
  },
  {
   "cell_type": "code",
   "execution_count": 88,
   "id": "ec89c6ec",
   "metadata": {},
   "outputs": [
    {
     "data": {
      "text/plain": [
       "<sklearn.metrics._plot.confusion_matrix.ConfusionMatrixDisplay at 0x1e413dc4610>"
      ]
     },
     "execution_count": 88,
     "metadata": {},
     "output_type": "execute_result"
    },
    {
     "data": {
      "text/plain": [
       "<Figure size 400x300 with 0 Axes>"
      ]
     },
     "metadata": {},
     "output_type": "display_data"
    },
    {
     "data": {
      "image/png": "[encoded data removed]",
      "text/plain": [
       "<Figure size 640x480 with 2 Axes>"
      ]
     },
     "metadata": {},
     "output_type": "display_data"
    }
   ],
   "source": [
    "plt.figure(figsize=(4,3))\n",
    "plot_confusion_matrix(log_clf, x_test, y_test)"
   ]
  },
  {
   "cell_type": "markdown",
   "id": "61abb187",
   "metadata": {},
   "source": [
    "## AUC ROC Curve"
   ]
  },
  {
   "cell_type": "code",
   "execution_count": 89,
   "id": "f1894f40",
   "metadata": {},
   "outputs": [
    {
     "data": {
      "text/plain": [
       "array([[0.92416803, 0.07583197],\n",
       "       [0.94487131, 0.05512869],\n",
       "       [0.19856529, 0.80143471],\n",
       "       [0.32408304, 0.67591696],\n",
       "       [0.89250026, 0.10749974],\n",
       "       [0.88735133, 0.11264867],\n",
       "       [0.89177971, 0.10822029],\n",
       "       [0.31516922, 0.68483078],\n",
       "       [0.77708358, 0.22291642],\n",
       "       [0.56045341, 0.43954659],\n",
       "       [0.01906815, 0.98093185],\n",
       "       [0.55912337, 0.44087663],\n",
       "       [0.66113356, 0.33886644],\n",
       "       [0.30598521, 0.69401479],\n",
       "       [0.42018208, 0.57981792],\n",
       "       [0.15045341, 0.84954659],\n",
       "       [0.89577988, 0.10422012],\n",
       "       [0.86510721, 0.13489279],\n",
       "       [0.93564801, 0.06435199],\n",
       "       [0.74340694, 0.25659306],\n",
       "       [0.47899802, 0.52100198],\n",
       "       [0.84041803, 0.15958197],\n",
       "       [0.42887217, 0.57112783],\n",
       "       [0.30041061, 0.69958939],\n",
       "       [0.98394242, 0.01605758],\n",
       "       [0.74780057, 0.25219943],\n",
       "       [0.52292926, 0.47707074],\n",
       "       [0.1688804 , 0.8311196 ],\n",
       "       [0.54570588, 0.45429412],\n",
       "       [0.29980557, 0.70019443],\n",
       "       [0.67655113, 0.32344887],\n",
       "       [0.84145608, 0.15854392],\n",
       "       [0.90873286, 0.09126714],\n",
       "       [0.22957318, 0.77042682],\n",
       "       [0.76381002, 0.23618998],\n",
       "       [0.67034455, 0.32965545],\n",
       "       [0.95713386, 0.04286614],\n",
       "       [0.83353674, 0.16646326],\n",
       "       [0.94961296, 0.05038704],\n",
       "       [0.94845491, 0.05154509],\n",
       "       [0.42699553, 0.57300447],\n",
       "       [0.77734219, 0.22265781],\n",
       "       [0.71715506, 0.28284494],\n",
       "       [0.32168734, 0.67831266],\n",
       "       [0.71257972, 0.28742028],\n",
       "       [0.63432198, 0.36567802],\n",
       "       [0.54439841, 0.45560159],\n",
       "       [0.80040304, 0.19959696],\n",
       "       [0.98270691, 0.01729309],\n",
       "       [0.79463321, 0.20536679],\n",
       "       [0.72286915, 0.27713085],\n",
       "       [0.86324039, 0.13675961],\n",
       "       [0.35711646, 0.64288354],\n",
       "       [0.89937312, 0.10062688],\n",
       "       [0.24434353, 0.75565647],\n",
       "       [0.63496732, 0.36503268],\n",
       "       [0.92942163, 0.07057837],\n",
       "       [0.96226073, 0.03773927],\n",
       "       [0.61421615, 0.38578385],\n",
       "       [0.92864731, 0.07135269],\n",
       "       [0.83412243, 0.16587757],\n",
       "       [0.91570029, 0.08429971],\n",
       "       [0.77266313, 0.22733687],\n",
       "       [0.7654777 , 0.2345223 ],\n",
       "       [0.39500215, 0.60499785],\n",
       "       [0.60390142, 0.39609858],\n",
       "       [0.80545839, 0.19454161],\n",
       "       [0.35160407, 0.64839593],\n",
       "       [0.35066241, 0.64933759],\n",
       "       [0.92444105, 0.07555895],\n",
       "       [0.32377624, 0.67622376],\n",
       "       [0.78076197, 0.21923803],\n",
       "       [0.29719479, 0.70280521],\n",
       "       [0.92327076, 0.07672924],\n",
       "       [0.10688995, 0.89311005],\n",
       "       [0.8803924 , 0.1196076 ],\n",
       "       [0.98851152, 0.01148848],\n",
       "       [0.54023118, 0.45976882],\n",
       "       [0.70747225, 0.29252775],\n",
       "       [0.83411296, 0.16588704],\n",
       "       [0.97674899, 0.02325101],\n",
       "       [0.92937795, 0.07062205],\n",
       "       [0.93277344, 0.06722656],\n",
       "       [0.85858187, 0.14141813],\n",
       "       [0.87291854, 0.12708146],\n",
       "       [0.19175348, 0.80824652],\n",
       "       [0.77963842, 0.22036158],\n",
       "       [0.793649  , 0.206351  ],\n",
       "       [0.21510784, 0.78489216],\n",
       "       [0.60996765, 0.39003235],\n",
       "       [0.67900928, 0.32099072],\n",
       "       [0.88553633, 0.11446367],\n",
       "       [0.13149202, 0.86850798],\n",
       "       [0.93377464, 0.06622536],\n",
       "       [0.89975412, 0.10024588],\n",
       "       [0.12462497, 0.87537503],\n",
       "       [0.63215693, 0.36784307],\n",
       "       [0.84916218, 0.15083782],\n",
       "       [0.06385326, 0.93614674],\n",
       "       [0.58842398, 0.41157602],\n",
       "       [0.75639249, 0.24360751],\n",
       "       [0.47814804, 0.52185196],\n",
       "       [0.80526909, 0.19473091],\n",
       "       [0.85496277, 0.14503723],\n",
       "       [0.8434878 , 0.1565122 ],\n",
       "       [0.96431879, 0.03568121],\n",
       "       [0.85902949, 0.14097051],\n",
       "       [0.96694375, 0.03305625],\n",
       "       [0.57532492, 0.42467508],\n",
       "       [0.95814851, 0.04185149],\n",
       "       [0.41072398, 0.58927602],\n",
       "       [0.97127283, 0.02872717],\n",
       "       [0.83310248, 0.16689752],\n",
       "       [0.92943668, 0.07056332],\n",
       "       [0.89464616, 0.10535384],\n",
       "       [0.38843758, 0.61156242],\n",
       "       [0.7171897 , 0.2828103 ],\n",
       "       [0.41678362, 0.58321638],\n",
       "       [0.78618087, 0.21381913],\n",
       "       [0.27996469, 0.72003531],\n",
       "       [0.87981406, 0.12018594],\n",
       "       [0.70777555, 0.29222445],\n",
       "       [0.95379128, 0.04620872],\n",
       "       [0.34406341, 0.65593659],\n",
       "       [0.52036386, 0.47963614],\n",
       "       [0.90978119, 0.09021881],\n",
       "       [0.98074164, 0.01925836],\n",
       "       [0.94989772, 0.05010228],\n",
       "       [0.82784696, 0.17215304],\n",
       "       [0.5600937 , 0.4399063 ],\n",
       "       [0.82229956, 0.17770044],\n",
       "       [0.2290633 , 0.7709367 ],\n",
       "       [0.1417677 , 0.8582323 ],\n",
       "       [0.72352944, 0.27647056],\n",
       "       [0.96547875, 0.03452125],\n",
       "       [0.76943637, 0.23056363],\n",
       "       [0.85893777, 0.14106223],\n",
       "       [0.80780891, 0.19219109],\n",
       "       [0.94448443, 0.05551557],\n",
       "       [0.54353025, 0.45646975],\n",
       "       [0.59396976, 0.40603024],\n",
       "       [0.52351573, 0.47648427],\n",
       "       [0.91483065, 0.08516935],\n",
       "       [0.69590634, 0.30409366],\n",
       "       [0.91795385, 0.08204615],\n",
       "       [0.24943766, 0.75056234],\n",
       "       [0.81431479, 0.18568521],\n",
       "       [0.75122212, 0.24877788],\n",
       "       [0.92405224, 0.07594776],\n",
       "       [0.82474189, 0.17525811],\n",
       "       [0.0577134 , 0.9422866 ],\n",
       "       [0.79511374, 0.20488626],\n",
       "       [0.94297357, 0.05702643],\n",
       "       [0.68770488, 0.31229512]])"
      ]
     },
     "execution_count": 89,
     "metadata": {},
     "output_type": "execute_result"
    }
   ],
   "source": [
    "y_pred_proba = log_clf.predict_proba(x_test)\n",
    "y_pred_proba"
   ]
  },
  {
   "cell_type": "code",
   "execution_count": 90,
   "id": "e5af4e30",
   "metadata": {},
   "outputs": [
    {
     "data": {
      "text/plain": [
       "array([0, 0, 1, 1, 0], dtype=int64)"
      ]
     },
     "execution_count": 90,
     "metadata": {},
     "output_type": "execute_result"
    }
   ],
   "source": [
    "y_pred[:5]"
   ]
  },
  {
   "cell_type": "code",
   "execution_count": null,
   "id": "018bfddf",
   "metadata": {},
   "outputs": [],
   "source": [
    "thresh = 0.5  \n",
    "            0            1\n",
    "       [0.92416803, 0.07583197],     >> Class 0\n",
    "       [0.94487131, 0.05512869],     >> CLass 0\n",
    "       [0.19856529, 0.80143471],     >> Class 1\n",
    "       [0.32408304, 0.67591696],\n",
    "       [0.89250026, 0.10749974],\n",
    "       [0.88735133, 0.11264867],\n",
    "       [0.89177971, 0.10822029],\n",
    "       [0.31516922, 0.68483078],     >> Class 1\n",
    "       [0.77708358, 0.22291642],     >> Class 0\n",
    "       [0.56045341, 0.43954659],     >> Class 0\n",
    "       [0.01906815, 0.98093185]"
   ]
  },
  {
   "cell_type": "code",
   "execution_count": null,
   "id": "49bcc657",
   "metadata": {},
   "outputs": [],
   "source": [
    "thresh = 0.6\n",
    "            0            1\n",
    "       [0.92416803, 0.07583197],     >> Class 0\n",
    "       [0.94487131, 0.05512869],     >> CLass 0\n",
    "       [0.19856529, 0.80143471],     >> Class 1\n",
    "       [0.32408304, 0.67591696],\n",
    "       [0.89250026, 0.10749974],\n",
    "       [0.88735133, 0.11264867],\n",
    "       [0.89177971, 0.10822029],\n",
    "       [0.31516922, 0.68483078],     >> Class 1\n",
    "       [0.77708358, 0.22291642],     >> Class 0\n",
    "       [0.56045341, 0.43954659],     >> Class 0\n",
    "       [0.01906815, 0.98093185]"
   ]
  },
  {
   "cell_type": "code",
   "execution_count": 92,
   "id": "b1e7a6bb",
   "metadata": {
    "collapsed": true
   },
   "outputs": [
    {
     "data": {
      "text/plain": [
       "array([0.07583197, 0.05512869, 0.80143471, 0.67591696, 0.10749974,\n",
       "       0.11264867, 0.10822029, 0.68483078, 0.22291642, 0.43954659,\n",
       "       0.98093185, 0.44087663, 0.33886644, 0.69401479, 0.57981792,\n",
       "       0.84954659, 0.10422012, 0.13489279, 0.06435199, 0.25659306,\n",
       "       0.52100198, 0.15958197, 0.57112783, 0.69958939, 0.01605758,\n",
       "       0.25219943, 0.47707074, 0.8311196 , 0.45429412, 0.70019443,\n",
       "       0.32344887, 0.15854392, 0.09126714, 0.77042682, 0.23618998,\n",
       "       0.32965545, 0.04286614, 0.16646326, 0.05038704, 0.05154509,\n",
       "       0.57300447, 0.22265781, 0.28284494, 0.67831266, 0.28742028,\n",
       "       0.36567802, 0.45560159, 0.19959696, 0.01729309, 0.20536679,\n",
       "       0.27713085, 0.13675961, 0.64288354, 0.10062688, 0.75565647,\n",
       "       0.36503268, 0.07057837, 0.03773927, 0.38578385, 0.07135269,\n",
       "       0.16587757, 0.08429971, 0.22733687, 0.2345223 , 0.60499785,\n",
       "       0.39609858, 0.19454161, 0.64839593, 0.64933759, 0.07555895,\n",
       "       0.67622376, 0.21923803, 0.70280521, 0.07672924, 0.89311005,\n",
       "       0.1196076 , 0.01148848, 0.45976882, 0.29252775, 0.16588704,\n",
       "       0.02325101, 0.07062205, 0.06722656, 0.14141813, 0.12708146,\n",
       "       0.80824652, 0.22036158, 0.206351  , 0.78489216, 0.39003235,\n",
       "       0.32099072, 0.11446367, 0.86850798, 0.06622536, 0.10024588,\n",
       "       0.87537503, 0.36784307, 0.15083782, 0.93614674, 0.41157602,\n",
       "       0.24360751, 0.52185196, 0.19473091, 0.14503723, 0.1565122 ,\n",
       "       0.03568121, 0.14097051, 0.03305625, 0.42467508, 0.04185149,\n",
       "       0.58927602, 0.02872717, 0.16689752, 0.07056332, 0.10535384,\n",
       "       0.61156242, 0.2828103 , 0.58321638, 0.21381913, 0.72003531,\n",
       "       0.12018594, 0.29222445, 0.04620872, 0.65593659, 0.47963614,\n",
       "       0.09021881, 0.01925836, 0.05010228, 0.17215304, 0.4399063 ,\n",
       "       0.17770044, 0.7709367 , 0.8582323 , 0.27647056, 0.03452125,\n",
       "       0.23056363, 0.14106223, 0.19219109, 0.05551557, 0.45646975,\n",
       "       0.40603024, 0.47648427, 0.08516935, 0.30409366, 0.08204615,\n",
       "       0.75056234, 0.18568521, 0.24877788, 0.07594776, 0.17525811,\n",
       "       0.9422866 , 0.20488626, 0.05702643, 0.31229512])"
      ]
     },
     "execution_count": 92,
     "metadata": {},
     "output_type": "execute_result"
    }
   ],
   "source": [
    "y_pred_proba[:,1]"
   ]
  },
  {
   "cell_type": "code",
   "execution_count": 93,
   "id": "bb413451",
   "metadata": {},
   "outputs": [
    {
     "data": {
      "text/plain": [
       "array([1.98093185, 0.98093185, 0.9422866 , 0.93614674, 0.8311196 ,\n",
       "       0.78489216, 0.72003531, 0.70019443, 0.69958939, 0.69401479,\n",
       "       0.65593659, 0.64933759, 0.64839593, 0.64288354, 0.58321638,\n",
       "       0.57981792, 0.52185196, 0.47963614, 0.47648427, 0.4399063 ,\n",
       "       0.43954659, 0.42467508, 0.41157602, 0.40603024, 0.39609858,\n",
       "       0.39003235, 0.38578385, 0.36784307, 0.36567802, 0.36503268,\n",
       "       0.32965545, 0.32344887, 0.32099072, 0.30409366, 0.29222445,\n",
       "       0.27713085, 0.25659306, 0.2345223 , 0.22733687, 0.21923803,\n",
       "       0.21381913, 0.19959696, 0.19473091, 0.19454161, 0.18568521,\n",
       "       0.17525811, 0.17215304, 0.16588704, 0.16587757, 0.15854392,\n",
       "       0.1565122 , 0.14503723, 0.14106223, 0.13489279, 0.12708146,\n",
       "       0.10749974, 0.10535384, 0.01148848])"
      ]
     },
     "execution_count": 93,
     "metadata": {},
     "output_type": "execute_result"
    }
   ],
   "source": [
    "fpr, tpr, thresh = roc_curve(y_test, y_pred_proba[:,1])\n",
    "thresh"
   ]
  },
  {
   "cell_type": "code",
   "execution_count": 94,
   "id": "b1e6c34a",
   "metadata": {},
   "outputs": [
    {
     "data": {
      "text/plain": [
       "array([0.  , 0.  , 0.  , 0.01, 0.01, 0.04, 0.04, 0.06, 0.06, 0.07, 0.07,\n",
       "       0.08, 0.08, 0.09, 0.09, 0.1 , 0.1 , 0.12, 0.12, 0.18, 0.18, 0.19,\n",
       "       0.19, 0.2 , 0.2 , 0.21, 0.21, 0.22, 0.22, 0.23, 0.23, 0.24, 0.24,\n",
       "       0.26, 0.26, 0.3 , 0.3 , 0.35, 0.35, 0.39, 0.39, 0.43, 0.43, 0.44,\n",
       "       0.44, 0.46, 0.46, 0.49, 0.49, 0.51, 0.51, 0.53, 0.53, 0.56, 0.56,\n",
       "       0.62, 0.62, 1.  ])"
      ]
     },
     "execution_count": 94,
     "metadata": {},
     "output_type": "execute_result"
    }
   ],
   "source": [
    "fpr"
   ]
  },
  {
   "cell_type": "code",
   "execution_count": 95,
   "id": "2bc611b8",
   "metadata": {},
   "outputs": [
    {
     "data": {
      "text/plain": [
       "array([0.        , 0.01851852, 0.03703704, 0.03703704, 0.14814815,\n",
       "       0.14814815, 0.24074074, 0.24074074, 0.25925926, 0.25925926,\n",
       "       0.35185185, 0.35185185, 0.37037037, 0.37037037, 0.44444444,\n",
       "       0.44444444, 0.5       , 0.5       , 0.53703704, 0.53703704,\n",
       "       0.55555556, 0.55555556, 0.57407407, 0.57407407, 0.59259259,\n",
       "       0.59259259, 0.61111111, 0.61111111, 0.62962963, 0.62962963,\n",
       "       0.66666667, 0.66666667, 0.68518519, 0.68518519, 0.72222222,\n",
       "       0.72222222, 0.75925926, 0.75925926, 0.7962963 , 0.7962963 ,\n",
       "       0.81481481, 0.81481481, 0.83333333, 0.83333333, 0.87037037,\n",
       "       0.87037037, 0.88888889, 0.88888889, 0.90740741, 0.90740741,\n",
       "       0.92592593, 0.92592593, 0.96296296, 0.96296296, 0.98148148,\n",
       "       0.98148148, 1.        , 1.        ])"
      ]
     },
     "execution_count": 95,
     "metadata": {},
     "output_type": "execute_result"
    }
   ],
   "source": [
    "tpr"
   ]
  },
  {
   "cell_type": "markdown",
   "id": "afd477c5",
   "metadata": {},
   "source": [
    "## ROC Curve"
   ]
  },
  {
   "cell_type": "code",
   "execution_count": 99,
   "id": "c826d0fc",
   "metadata": {},
   "outputs": [
    {
     "data": {
      "text/plain": [
       "Text(0, 0.5, 'True Positive Rate')"
      ]
     },
     "execution_count": 99,
     "metadata": {},
     "output_type": "execute_result"
    },
    {
     "data": {
      "image/png": "[encoded data removed]",
      "text/plain": [
       "<Figure size 640x480 with 1 Axes>"
      ]
     },
     "metadata": {},
     "output_type": "display_data"
    }
   ],
   "source": [
    "plt.title('ROC Curve')\n",
    "plt.plot(fpr, tpr)\n",
    "plt.xlabel('False Positive Rate')\n",
    "plt.ylabel('True Positive Rate')"
   ]
  },
  {
   "cell_type": "code",
   "execution_count": 100,
   "id": "e76d6412",
   "metadata": {},
   "outputs": [
    {
     "data": {
      "text/plain": [
       "0.8042592592592592"
      ]
     },
     "execution_count": 100,
     "metadata": {},
     "output_type": "execute_result"
    }
   ],
   "source": [
    "auc_score = roc_auc_score(y_test, y_pred_proba[:,1])\n",
    "auc_score"
   ]
  },
  {
   "cell_type": "code",
   "execution_count": 103,
   "id": "3a2176df",
   "metadata": {},
   "outputs": [],
   "source": [
    "# Prob to belonging to 1\n",
    "value_pred = []\n",
    "\n",
    "for i in y_pred_proba[:,1]:\n",
    "    if i >= 0.6:\n",
    "        value_pred.append(1)\n",
    "    else:\n",
    "        value_pred.append(0)\n",
    "    "
   ]
  },
  {
   "cell_type": "code",
   "execution_count": 105,
   "id": "1c299bb3",
   "metadata": {},
   "outputs": [
    {
     "data": {
      "text/plain": [
       "array([[91,  9],\n",
       "       [32, 22]], dtype=int64)"
      ]
     },
     "execution_count": 105,
     "metadata": {},
     "output_type": "execute_result"
    }
   ],
   "source": [
    "arr = np.array(value_pred)\n",
    "\n",
    "confusion_matrix(y_test, arr)"
   ]
  },
  {
   "cell_type": "code",
   "execution_count": 107,
   "id": "610b45ca",
   "metadata": {},
   "outputs": [
    {
     "name": "stdout",
     "output_type": "stream",
     "text": [
      "              precision    recall  f1-score   support\n",
      "\n",
      "           0       0.74      0.91      0.82       100\n",
      "           1       0.71      0.41      0.52        54\n",
      "\n",
      "    accuracy                           0.73       154\n",
      "   macro avg       0.72      0.66      0.67       154\n",
      "weighted avg       0.73      0.73      0.71       154\n",
      "\n"
     ]
    }
   ],
   "source": [
    "print(classification_report(y_test, arr))"
   ]
  },
  {
   "cell_type": "code",
   "execution_count": 108,
   "id": "1e38b218",
   "metadata": {},
   "outputs": [
    {
     "data": {
      "text/plain": [
       "array([[84, 16],\n",
       "       [25, 29]], dtype=int64)"
      ]
     },
     "execution_count": 108,
     "metadata": {},
     "output_type": "execute_result"
    }
   ],
   "source": [
    "# Prob to belonging to 1\n",
    "value_pred = []\n",
    "\n",
    "for i in y_pred_proba[:,1]:\n",
    "    if i >= 0.45:\n",
    "        value_pred.append(1)\n",
    "    else:\n",
    "        value_pred.append(0)\n",
    "    \n",
    "arr = np.array(value_pred)\n",
    "\n",
    "confusion_matrix(y_test, arr)"
   ]
  },
  {
   "cell_type": "code",
   "execution_count": 109,
   "id": "114a12a2",
   "metadata": {},
   "outputs": [
    {
     "name": "stdout",
     "output_type": "stream",
     "text": [
      "              precision    recall  f1-score   support\n",
      "\n",
      "           0       0.77      0.84      0.80       100\n",
      "           1       0.64      0.54      0.59        54\n",
      "\n",
      "    accuracy                           0.73       154\n",
      "   macro avg       0.71      0.69      0.69       154\n",
      "weighted avg       0.73      0.73      0.73       154\n",
      "\n"
     ]
    }
   ],
   "source": [
    "print(classification_report(y_test, arr))"
   ]
  },
  {
   "cell_type": "code",
   "execution_count": 111,
   "id": "116e530b",
   "metadata": {},
   "outputs": [
    {
     "data": {
      "text/plain": [
       "array([[0.42887217, 0.57112783]])"
      ]
     },
     "execution_count": 111,
     "metadata": {},
     "output_type": "execute_result"
    }
   ],
   "source": [
    "y_pred_proba[22:23]"
   ]
  },
  {
   "cell_type": "code",
   "execution_count": 112,
   "id": "55f5c3c4",
   "metadata": {},
   "outputs": [
    {
     "data": {
      "text/plain": [
       "0.5711278257765363"
      ]
     },
     "execution_count": 112,
     "metadata": {},
     "output_type": "execute_result"
    }
   ],
   "source": [
    "result = y_pred_proba[22:23]\n",
    "result[0,1]"
   ]
  },
  {
   "cell_type": "code",
   "execution_count": 113,
   "id": "b86af2ad",
   "metadata": {},
   "outputs": [
    {
     "name": "stdout",
     "output_type": "stream",
     "text": [
      "Precited class is:  Class1\n"
     ]
    }
   ],
   "source": [
    "def get_pred_class(threshold, result):\n",
    "    prob = result[0,1]\n",
    "    if prob >= threshold:\n",
    "        return 'Class1'\n",
    "    \n",
    "    else:\n",
    "        return 'Class0'\n",
    "    \n",
    "result = y_pred_proba[22:23]    \n",
    "\n",
    "threshold = 0.5\n",
    "pred_class = get_pred_class(threshold, result)\n",
    "print('Precited class is: ', pred_class)"
   ]
  },
  {
   "cell_type": "code",
   "execution_count": 114,
   "id": "5e71242d",
   "metadata": {},
   "outputs": [
    {
     "name": "stdout",
     "output_type": "stream",
     "text": [
      "Precited class is:  Class0\n"
     ]
    }
   ],
   "source": [
    "def get_pred_class(threshold, result):\n",
    "    prob = result[0,1]\n",
    "    if prob >= threshold:\n",
    "        return 'Class1'\n",
    "    \n",
    "    else:\n",
    "        return 'Class0'\n",
    "    \n",
    "result = y_pred_proba[22:23]    \n",
    "\n",
    "threshold = 0.6\n",
    "pred_class = get_pred_class(threshold, result)\n",
    "print('Precited class is: ', pred_class)"
   ]
  },
  {
   "cell_type": "code",
   "execution_count": null,
   "id": "340e2691",
   "metadata": {},
   "outputs": [],
   "source": []
  },
  {
   "cell_type": "markdown",
   "id": "d0b8b612",
   "metadata": {},
   "source": [
    "## Test Model on single Row"
   ]
  },
  {
   "cell_type": "code",
   "execution_count": 117,
   "id": "4cf9ab1a",
   "metadata": {},
   "outputs": [
    {
     "data": {
      "text/html": [
       "<div>\n",
       "<style scoped>\n",
       "    .dataframe tbody tr th:only-of-type {\n",
       "        vertical-align: middle;\n",
       "    }\n",
       "\n",
       "    .dataframe tbody tr th {\n",
       "        vertical-align: top;\n",
       "    }\n",
       "\n",
       "    .dataframe thead th {\n",
       "        text-align: right;\n",
       "    }\n",
       "</style>\n",
       "<table border=\"1\" class=\"dataframe\">\n",
       "  <thead>\n",
       "    <tr style=\"text-align: right;\">\n",
       "      <th></th>\n",
       "      <th>0</th>\n",
       "    </tr>\n",
       "  </thead>\n",
       "  <tbody>\n",
       "    <tr>\n",
       "      <th>Glucose</th>\n",
       "      <td>148.000</td>\n",
       "    </tr>\n",
       "    <tr>\n",
       "      <th>BloodPressure</th>\n",
       "      <td>50.000</td>\n",
       "    </tr>\n",
       "    <tr>\n",
       "      <th>SkinThickness</th>\n",
       "      <td>35.000</td>\n",
       "    </tr>\n",
       "    <tr>\n",
       "      <th>Insulin</th>\n",
       "      <td>0.000</td>\n",
       "    </tr>\n",
       "    <tr>\n",
       "      <th>BMI</th>\n",
       "      <td>33.600</td>\n",
       "    </tr>\n",
       "    <tr>\n",
       "      <th>DiabetesPedigreeFunction</th>\n",
       "      <td>0.627</td>\n",
       "    </tr>\n",
       "    <tr>\n",
       "      <th>Age</th>\n",
       "      <td>50.000</td>\n",
       "    </tr>\n",
       "  </tbody>\n",
       "</table>\n",
       "</div>"
      ],
      "text/plain": [
       "                                0\n",
       "Glucose                   148.000\n",
       "BloodPressure              50.000\n",
       "SkinThickness              35.000\n",
       "Insulin                     0.000\n",
       "BMI                        33.600\n",
       "DiabetesPedigreeFunction    0.627\n",
       "Age                        50.000"
      ]
     },
     "execution_count": 117,
     "metadata": {},
     "output_type": "execute_result"
    }
   ],
   "source": [
    "x.head(1).T"
   ]
  },
  {
   "cell_type": "code",
   "execution_count": 125,
   "id": "b5f5e5c0",
   "metadata": {},
   "outputs": [
    {
     "name": "stdout",
     "output_type": "stream",
     "text": [
      "Predicted Class is : 1\n"
     ]
    }
   ],
   "source": [
    "Glucose =143.000\n",
    "BloodPressure=53.000\n",
    "SkinThickness=38.000\n",
    "Insulin=0.2\n",
    "BMI=28.600\n",
    "DiabetesPedigreeFunction=0.6\n",
    "Age=47\n",
    "\n",
    "test_array = np.array([Glucose,BloodPressure, SkinThickness, Insulin, BMI, DiabetesPedigreeFunction, Age], ndmin = 2)\n",
    "# test_array\n",
    "pred_class = log_clf.predict(test_array)[0]\n",
    "print('Predicted Class is :', pred_class)   # Threshold = 0.5"
   ]
  },
  {
   "cell_type": "code",
   "execution_count": 126,
   "id": "13abb643",
   "metadata": {},
   "outputs": [
    {
     "name": "stdout",
     "output_type": "stream",
     "text": [
      "Precited class is:  Class0\n"
     ]
    }
   ],
   "source": [
    "Glucose =143.000\n",
    "BloodPressure=53.000\n",
    "SkinThickness=38.000\n",
    "Insulin=0.2\n",
    "BMI=28.600\n",
    "DiabetesPedigreeFunction=0.6\n",
    "Age=47\n",
    "\n",
    "test_array = np.array([Glucose,BloodPressure, SkinThickness, Insulin, BMI, DiabetesPedigreeFunction, Age], ndmin = 2)\n",
    "# test_array\n",
    "pred_class = log_clf.predict(test_array)[0]\n",
    "# print('Predicted Class is :', pred_class)   # Threshold = 0.5\n",
    "\n",
    "def get_pred_class(threshold, result):\n",
    "    prob = result[0,1]\n",
    "    if prob >= threshold:\n",
    "        return 'Class1'\n",
    "    \n",
    "    else:\n",
    "        return 'Class0'\n",
    "    \n",
    "result = y_pred_proba[22:23]    \n",
    "\n",
    "threshold = 0.6\n",
    "pred_class = get_pred_class(threshold, result)\n",
    "print('Precited class is: ', pred_class)"
   ]
  },
  {
   "cell_type": "code",
   "execution_count": 127,
   "id": "49204ae1",
   "metadata": {},
   "outputs": [
    {
     "name": "stdout",
     "output_type": "stream",
     "text": [
      "[[0.42887217 0.57112783]]\n",
      "Precited class is:  Class0\n"
     ]
    }
   ],
   "source": [
    "Glucose =143.000\n",
    "BloodPressure=53.000\n",
    "SkinThickness=38.000\n",
    "Insulin=0.2\n",
    "BMI=28.600\n",
    "DiabetesPedigreeFunction=0.6\n",
    "Age=47\n",
    "\n",
    "test_array = np.array([Glucose,BloodPressure, SkinThickness, Insulin, BMI, DiabetesPedigreeFunction, Age], ndmin = 2)\n",
    "# test_array\n",
    "pred_class = log_clf.predict(test_array)[0]\n",
    "# print('Predicted Class is :', pred_class)   # Threshold = 0.5\n",
    "\n",
    "def get_pred_class(threshold, result):\n",
    "    prob = result[0,1]\n",
    "    if prob >= threshold:\n",
    "        return 'Class1'\n",
    "    \n",
    "    else:\n",
    "        return 'Class0'\n",
    "    \n",
    "result = y_pred_proba[22:23]    \n",
    "print(result)\n",
    "threshold = 0.6\n",
    "pred_class = get_pred_class(threshold, result)\n",
    "print('Precited class is: ', pred_class)"
   ]
  },
  {
   "cell_type": "code",
   "execution_count": 128,
   "id": "45370f9d",
   "metadata": {},
   "outputs": [
    {
     "name": "stdout",
     "output_type": "stream",
     "text": [
      "[[0.42887217 0.57112783]]\n",
      "Precited class is:  Class1\n"
     ]
    }
   ],
   "source": [
    "Glucose =143.000\n",
    "BloodPressure=53.000\n",
    "SkinThickness=38.000\n",
    "Insulin=0.2\n",
    "BMI=28.600\n",
    "DiabetesPedigreeFunction=0.6\n",
    "Age=47\n",
    "\n",
    "test_array = np.array([Glucose,BloodPressure, SkinThickness, Insulin, BMI, DiabetesPedigreeFunction, Age], ndmin = 2)\n",
    "# test_array\n",
    "pred_class = log_clf.predict(test_array)[0]\n",
    "# print('Predicted Class is :', pred_class)   # Threshold = 0.5\n",
    "\n",
    "def get_pred_class(threshold, result):\n",
    "    prob = result[0,1]\n",
    "    if prob >= threshold:\n",
    "        return 'Class1'\n",
    "    \n",
    "    else:\n",
    "        return 'Class0'\n",
    "    \n",
    "result = y_pred_proba[22:23]    \n",
    "print(result)\n",
    "threshold = 0.55\n",
    "pred_class = get_pred_class(threshold, result)\n",
    "print('Precited class is: ', pred_class)"
   ]
  },
  {
   "cell_type": "code",
   "execution_count": null,
   "id": "7eb65f53",
   "metadata": {},
   "outputs": [],
   "source": []
  },
  {
   "cell_type": "code",
   "execution_count": null,
   "id": "ad3a0cc2",
   "metadata": {},
   "outputs": [],
   "source": []
  },
  {
   "cell_type": "code",
   "execution_count": null,
   "id": "3fee5213",
   "metadata": {},
   "outputs": [],
   "source": [
    "Why project actually exist:\n",
    "    Revunue Loss(optimization)\n",
    "    Revenue Generation(Maximization)\n",
    "    Manpower Management\n",
    "    Time Management\n",
    "    Process Management\n",
    "    Automation"
   ]
  },
  {
   "cell_type": "code",
   "execution_count": null,
   "id": "13c16c02",
   "metadata": {},
   "outputs": [],
   "source": [
    "                  pos    neg\n",
    "                non-def  def\n",
    "non-def  pos      TP     FP\n",
    " def     neg      FN     TN\n",
    "    \n",
    "    \n",
    "Precision >> def been predicted as non-defaulter >> Loan will be given to wrong person >> Revunue Loss\n",
    "\n",
    "Recall >> non-def been predicted as defaulter >> Loan should have been given to non-def >> Revunue Generation stopped\n",
    "\n",
    "Revunue Loss(optimization):\n",
    "    Precision\n",
    "    \n",
    "Revenue Generation(Maximization):\n",
    "    Recall"
   ]
  },
  {
   "cell_type": "code",
   "execution_count": null,
   "id": "28766850",
   "metadata": {},
   "outputs": [],
   "source": []
  },
  {
   "cell_type": "code",
   "execution_count": null,
   "id": "15d436c4",
   "metadata": {},
   "outputs": [],
   "source": []
  },
  {
   "cell_type": "code",
   "execution_count": null,
   "id": "506bd9b8",
   "metadata": {},
   "outputs": [],
   "source": []
  },
  {
   "cell_type": "code",
   "execution_count": null,
   "id": "f4b61965",
   "metadata": {},
   "outputs": [],
   "source": []
  },
  {
   "cell_type": "code",
   "execution_count": null,
   "id": "e0304ad8",
   "metadata": {},
   "outputs": [],
   "source": []
  },
  {
   "cell_type": "code",
   "execution_count": null,
   "id": "0b5f20a7",
   "metadata": {},
   "outputs": [],
   "source": []
  },
  {
   "cell_type": "code",
   "execution_count": null,
   "id": "f67b14b1",
   "metadata": {},
   "outputs": [],
   "source": []
  },
  {
   "cell_type": "code",
   "execution_count": null,
   "id": "7d063b7c",
   "metadata": {},
   "outputs": [],
   "source": []
  },
  {
   "cell_type": "code",
   "execution_count": null,
   "id": "af961350",
   "metadata": {},
   "outputs": [],
   "source": []
  },
  {
   "cell_type": "code",
   "execution_count": null,
   "id": "4d4b4613",
   "metadata": {},
   "outputs": [],
   "source": []
  },
  {
   "cell_type": "code",
   "execution_count": null,
   "id": "5ce7d1f3",
   "metadata": {},
   "outputs": [],
   "source": []
  },
  {
   "cell_type": "code",
   "execution_count": null,
   "id": "9c52c8d7",
   "metadata": {},
   "outputs": [],
   "source": []
  },
  {
   "cell_type": "code",
   "execution_count": null,
   "id": "6aee738a",
   "metadata": {},
   "outputs": [],
   "source": []
  }
 ],
 "metadata": {
  "kernelspec": {
   "display_name": "Python 3 (ipykernel)",
   "language": "python",
   "name": "python3"
  },
  "language_info": {
   "codemirror_mode": {
    "name": "ipython",
    "version": 3
   },
   "file_extension": ".py",
   "mimetype": "text/x-python",
   "name": "python",
   "nbconvert_exporter": "python",
   "pygments_lexer": "ipython3",
   "version": "3.10.6"
  }
 },
 "nbformat": 4,
 "nbformat_minor": 5
}
