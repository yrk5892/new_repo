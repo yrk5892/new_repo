{
 "cells": [
  {
   "cell_type": "markdown",
   "id": "50c5f6d0",
   "metadata": {},
   "source": [
    "## Data Science Project Steps"
   ]
  },
  {
   "cell_type": "code",
   "execution_count": null,
   "id": "14b7f36e",
   "metadata": {},
   "outputs": [],
   "source": [
    "1. Problem Statement\n",
    "2. Data Gathering       >>  Data Engineer\n",
    "3. Exploratory Data Analysis  >> Data Analyst\n",
    "4. Feature Engineering   \n",
    "5. Feature Selection\n",
    "6. Model Training\n",
    "7. Model Evaluation       >> Data Scientist/ML Engineer\n",
    "8. Web Framework (API)    >> Python Developers\n",
    "9. User Interface        >> UX Designer/UI Designer\n",
    "10. Deployement          >> DevOps Engineer/ MLOps Engineer"
   ]
  },
  {
   "cell_type": "markdown",
   "id": "9ac9e37f",
   "metadata": {},
   "source": [
    "## Job Profiles"
   ]
  },
  {
   "cell_type": "code",
   "execution_count": null,
   "id": "165c10e7",
   "metadata": {},
   "outputs": [],
   "source": [
    "Data Engineer\n",
    "Data Analyst\n",
    "Data Scientist/ML Engineer >> Backend Developers\n",
    "Python Developers          >> Backend Developers\n",
    "UX Designer  >> Design\n",
    "UI Devloper / Full Stack Devloper >> HTML, CSS, JS \n",
    "DevOps Engineer/ MLOps Engineer\n",
    "\n"
   ]
  },
  {
   "cell_type": "markdown",
   "id": "1b9e9228",
   "metadata": {},
   "source": [
    "## Web Frameworks"
   ]
  },
  {
   "cell_type": "code",
   "execution_count": null,
   "id": "fcf964be",
   "metadata": {},
   "outputs": [],
   "source": [
    "1. Flask\n",
    "2. DJango\n",
    "3. gRPC\n",
    "4. FastAPI"
   ]
  },
  {
   "cell_type": "markdown",
   "id": "8ca7dc09",
   "metadata": {},
   "source": [
    "# Flask"
   ]
  },
  {
   "cell_type": "code",
   "execution_count": null,
   "id": "73ecdb63",
   "metadata": {},
   "outputs": [],
   "source": [
    "Python Web Framework\n",
    "\n",
    "UI >> User Interface\n",
    "API >> Application Programming Interface\n",
    "\n",
    "POSTMAN >> Used to test the APIs\n",
    "\n",
    "Homepage >> https://www.cognizant.com/\n",
    "Careers API >> https://careers.cognizant.com/global/en\n",
    "\n",
    "Homepage >> https://zeenews.india.com/\n",
    "Business API >> https://zeenews.india.com/business\n",
    "\n",
    "WSGI >> Web Server Gateway Interface    \n",
    "    \n",
    "run.py\n",
    "interface.py\n",
    "main.py\n",
    "views.py\n",
    "wsgi.py\n",
    "\n",
    "Jinja2 Template >> HTML"
   ]
  },
  {
   "cell_type": "code",
   "execution_count": null,
   "id": "f0da03d2",
   "metadata": {},
   "outputs": [],
   "source": [
    "pip install flask\n",
    "conda install flask\n",
    "\n",
    "http >> Hypertext Transfer Protocol\n",
    "https >> Hypertext Transfer Protocol Secure (Secured Layer)\n",
    "SSL Certificate >> Secure Socket Layer\n",
    "\n",
    "http://127.0.0.1:5000/\n",
    "http://localhost:8888/notebooks/01_18_Flask/Flask.ipynb\n",
    "        \n",
    "https://zeenews.india.com/business\n",
    "    \n",
    "http://127.0.0.1:5000/   >> www.cybage.co.in (Domain Name)\n",
    "        \n",
    "127.0.0.1 >> host\n",
    "5000 >> PORT Number"
   ]
  },
  {
   "cell_type": "markdown",
   "id": "66db7c47",
   "metadata": {},
   "source": [
    "## Cloud Platforms"
   ]
  },
  {
   "cell_type": "code",
   "execution_count": null,
   "id": "c1cc3267",
   "metadata": {},
   "outputs": [],
   "source": [
    "1. AWS\n",
    "2. GCP\n",
    "3. Azure"
   ]
  },
  {
   "cell_type": "code",
   "execution_count": 1,
   "id": "6718199c",
   "metadata": {},
   "outputs": [
    {
     "name": "stdout",
     "output_type": "stream",
     "text": [
      "Calculation File\n",
      "Addition of 23 and 10 is 33 \n"
     ]
    }
   ],
   "source": [
    "import calculation"
   ]
  },
  {
   "cell_type": "code",
   "execution_count": 10,
   "id": "4bccab71",
   "metadata": {},
   "outputs": [],
   "source": [
    "import calculation"
   ]
  },
  {
   "cell_type": "code",
   "execution_count": 6,
   "id": "ad794c26",
   "metadata": {},
   "outputs": [
    {
     "name": "stdout",
     "output_type": "stream",
     "text": [
      "Addition of 12 and 55 is 67 \n"
     ]
    }
   ],
   "source": [
    "calculation.get_addition(12,55)"
   ]
  },
  {
   "cell_type": "code",
   "execution_count": 8,
   "id": "4ecb0933",
   "metadata": {},
   "outputs": [
    {
     "name": "stdout",
     "output_type": "stream",
     "text": [
      "None\n"
     ]
    }
   ],
   "source": [
    "print(calculation.get_addition.__doc__)"
   ]
  },
  {
   "cell_type": "code",
   "execution_count": null,
   "id": "ff1a112e",
   "metadata": {},
   "outputs": [],
   "source": [
    "Input Data: ImmutableMultiDict([('a', '45'), ('b', '19')])"
   ]
  },
  {
   "cell_type": "code",
   "execution_count": 15,
   "id": "c42f8237",
   "metadata": {},
   "outputs": [
    {
     "data": {
      "text/plain": [
       "'45'"
      ]
     },
     "execution_count": 15,
     "metadata": {},
     "output_type": "execute_result"
    }
   ],
   "source": [
    "input_data = dict([('a', '45'), ('b', '19')])\n",
    "input_data['a']"
   ]
  },
  {
   "cell_type": "code",
   "execution_count": 18,
   "id": "3d657246",
   "metadata": {},
   "outputs": [
    {
     "ename": "TypeError",
     "evalue": "eval() arg 1 must be a string, bytes or code object",
     "output_type": "error",
     "traceback": [
      "\u001b[1;31m---------------------------------------------------------------------------\u001b[0m",
      "\u001b[1;31mTypeError\u001b[0m                                 Traceback (most recent call last)",
      "Input \u001b[1;32mIn [18]\u001b[0m, in \u001b[0;36m<cell line: 1>\u001b[1;34m()\u001b[0m\n\u001b[1;32m----> 1\u001b[0m \u001b[38;5;28;43meval\u001b[39;49m\u001b[43m(\u001b[49m\u001b[38;5;241;43m23\u001b[39;49m\u001b[43m)\u001b[49m\n",
      "\u001b[1;31mTypeError\u001b[0m: eval() arg 1 must be a string, bytes or code object"
     ]
    }
   ],
   "source": [
    "eval(23)"
   ]
  },
  {
   "cell_type": "code",
   "execution_count": null,
   "id": "73b3183d",
   "metadata": {},
   "outputs": [],
   "source": []
  },
  {
   "cell_type": "code",
   "execution_count": null,
   "id": "5988ce7b",
   "metadata": {},
   "outputs": [],
   "source": []
  },
  {
   "cell_type": "code",
   "execution_count": 1,
   "id": "bab5e27e",
   "metadata": {},
   "outputs": [
    {
     "data": {
      "text/plain": [
       "3"
      ]
     },
     "execution_count": 1,
     "metadata": {},
     "output_type": "execute_result"
    }
   ],
   "source": [
    "a = ['Suvarna', 'Shital','Saniya','Ajeet']\n",
    "a.index('Ajeet')"
   ]
  },
  {
   "cell_type": "code",
   "execution_count": null,
   "id": "29b294c3",
   "metadata": {},
   "outputs": [],
   "source": [
    "\"G:\\Velocity 27 Aug 22\\01_20_Flask_medical_insurance\\static\\dhoni.jpg\""
   ]
  },
  {
   "cell_type": "code",
   "execution_count": null,
   "id": "78d133bf",
   "metadata": {},
   "outputs": [],
   "source": []
  },
  {
   "cell_type": "code",
   "execution_count": null,
   "id": "f0166877",
   "metadata": {},
   "outputs": [],
   "source": []
  },
  {
   "cell_type": "code",
   "execution_count": null,
   "id": "1bbacab8",
   "metadata": {},
   "outputs": [],
   "source": []
  },
  {
   "cell_type": "code",
   "execution_count": null,
   "id": "e7ac548c",
   "metadata": {},
   "outputs": [],
   "source": []
  },
  {
   "cell_type": "code",
   "execution_count": null,
   "id": "5468fae0",
   "metadata": {},
   "outputs": [],
   "source": []
  },
  {
   "cell_type": "code",
   "execution_count": null,
   "id": "5e2fcfd2",
   "metadata": {},
   "outputs": [],
   "source": []
  },
  {
   "cell_type": "code",
   "execution_count": null,
   "id": "de343fb8",
   "metadata": {},
   "outputs": [],
   "source": []
  },
  {
   "cell_type": "code",
   "execution_count": null,
   "id": "ce82dda6",
   "metadata": {},
   "outputs": [],
   "source": []
  },
  {
   "cell_type": "code",
   "execution_count": null,
   "id": "8085bea5",
   "metadata": {},
   "outputs": [],
   "source": []
  },
  {
   "cell_type": "code",
   "execution_count": null,
   "id": "31690594",
   "metadata": {},
   "outputs": [],
   "source": []
  },
  {
   "cell_type": "code",
   "execution_count": null,
   "id": "c349919c",
   "metadata": {},
   "outputs": [],
   "source": []
  },
  {
   "cell_type": "code",
   "execution_count": null,
   "id": "0af38c29",
   "metadata": {},
   "outputs": [],
   "source": []
  },
  {
   "cell_type": "code",
   "execution_count": null,
   "id": "cd45e087",
   "metadata": {},
   "outputs": [],
   "source": []
  },
  {
   "cell_type": "code",
   "execution_count": null,
   "id": "abb911b6",
   "metadata": {},
   "outputs": [],
   "source": []
  },
  {
   "cell_type": "code",
   "execution_count": null,
   "id": "72718826",
   "metadata": {},
   "outputs": [],
   "source": []
  },
  {
   "cell_type": "code",
   "execution_count": null,
   "id": "e7cbd444",
   "metadata": {},
   "outputs": [],
   "source": []
  },
  {
   "cell_type": "code",
   "execution_count": null,
   "id": "f2971457",
   "metadata": {},
   "outputs": [],
   "source": []
  },
  {
   "cell_type": "code",
   "execution_count": null,
   "id": "fc217286",
   "metadata": {},
   "outputs": [],
   "source": []
  },
  {
   "cell_type": "code",
   "execution_count": null,
   "id": "4d8e60df",
   "metadata": {},
   "outputs": [],
   "source": []
  },
  {
   "cell_type": "code",
   "execution_count": null,
   "id": "b611fb8a",
   "metadata": {},
   "outputs": [],
   "source": []
  },
  {
   "cell_type": "code",
   "execution_count": null,
   "id": "84f06338",
   "metadata": {},
   "outputs": [],
   "source": []
  },
  {
   "cell_type": "code",
   "execution_count": null,
   "id": "ff2a4bfc",
   "metadata": {},
   "outputs": [],
   "source": []
  },
  {
   "cell_type": "code",
   "execution_count": null,
   "id": "4ac5629a",
   "metadata": {},
   "outputs": [],
   "source": []
  },
  {
   "cell_type": "code",
   "execution_count": null,
   "id": "7c8c806c",
   "metadata": {},
   "outputs": [],
   "source": []
  },
  {
   "cell_type": "code",
   "execution_count": null,
   "id": "e93f85ad",
   "metadata": {},
   "outputs": [],
   "source": []
  },
  {
   "cell_type": "code",
   "execution_count": null,
   "id": "4b72ea4a",
   "metadata": {},
   "outputs": [],
   "source": []
  },
  {
   "cell_type": "code",
   "execution_count": null,
   "id": "f5738e06",
   "metadata": {},
   "outputs": [],
   "source": []
  },
  {
   "cell_type": "code",
   "execution_count": null,
   "id": "a8921e73",
   "metadata": {},
   "outputs": [],
   "source": []
  },
  {
   "cell_type": "code",
   "execution_count": null,
   "id": "b409e900",
   "metadata": {},
   "outputs": [],
   "source": []
  },
  {
   "cell_type": "code",
   "execution_count": null,
   "id": "26856e38",
   "metadata": {},
   "outputs": [],
   "source": []
  },
  {
   "cell_type": "code",
   "execution_count": null,
   "id": "fb3c490a",
   "metadata": {},
   "outputs": [],
   "source": []
  },
  {
   "cell_type": "code",
   "execution_count": null,
   "id": "999cb0ee",
   "metadata": {},
   "outputs": [],
   "source": []
  },
  {
   "cell_type": "code",
   "execution_count": null,
   "id": "6d0e593e",
   "metadata": {},
   "outputs": [],
   "source": []
  },
  {
   "cell_type": "code",
   "execution_count": null,
   "id": "7242e929",
   "metadata": {},
   "outputs": [],
   "source": []
  },
  {
   "cell_type": "code",
   "execution_count": null,
   "id": "233a0ab7",
   "metadata": {},
   "outputs": [],
   "source": []
  },
  {
   "cell_type": "code",
   "execution_count": null,
   "id": "86201a58",
   "metadata": {},
   "outputs": [],
   "source": []
  },
  {
   "cell_type": "code",
   "execution_count": null,
   "id": "2182f7ec",
   "metadata": {},
   "outputs": [],
   "source": []
  },
  {
   "cell_type": "code",
   "execution_count": null,
   "id": "34e8f3a5",
   "metadata": {},
   "outputs": [],
   "source": []
  },
  {
   "cell_type": "code",
   "execution_count": null,
   "id": "828ed7ea",
   "metadata": {},
   "outputs": [],
   "source": []
  },
  {
   "cell_type": "code",
   "execution_count": null,
   "id": "13237c55",
   "metadata": {},
   "outputs": [],
   "source": []
  },
  {
   "cell_type": "code",
   "execution_count": null,
   "id": "6c87ffc6",
   "metadata": {},
   "outputs": [],
   "source": []
  },
  {
   "cell_type": "code",
   "execution_count": null,
   "id": "42daeed5",
   "metadata": {},
   "outputs": [],
   "source": []
  },
  {
   "cell_type": "code",
   "execution_count": null,
   "id": "b80bf6ff",
   "metadata": {},
   "outputs": [],
   "source": []
  },
  {
   "cell_type": "code",
   "execution_count": null,
   "id": "b3040a58",
   "metadata": {},
   "outputs": [],
   "source": []
  },
  {
   "cell_type": "code",
   "execution_count": null,
   "id": "550e48e7",
   "metadata": {},
   "outputs": [],
   "source": []
  },
  {
   "cell_type": "code",
   "execution_count": null,
   "id": "098e496f",
   "metadata": {},
   "outputs": [],
   "source": []
  },
  {
   "cell_type": "code",
   "execution_count": null,
   "id": "b0068eb0",
   "metadata": {},
   "outputs": [],
   "source": []
  },
  {
   "cell_type": "code",
   "execution_count": null,
   "id": "11ba380b",
   "metadata": {},
   "outputs": [],
   "source": []
  },
  {
   "cell_type": "code",
   "execution_count": null,
   "id": "0557e014",
   "metadata": {},
   "outputs": [],
   "source": []
  },
  {
   "cell_type": "code",
   "execution_count": null,
   "id": "3ef3b459",
   "metadata": {},
   "outputs": [],
   "source": []
  }
 ],
 "metadata": {
  "kernelspec": {
   "display_name": "Python 3 (ipykernel)",
   "language": "python",
   "name": "python3"
  },
  "language_info": {
   "codemirror_mode": {
    "name": "ipython",
    "version": 3
   },
   "file_extension": ".py",
   "mimetype": "text/x-python",
   "name": "python",
   "nbconvert_exporter": "python",
   "pygments_lexer": "ipython3",
   "version": "3.10.6"
  }
 },
 "nbformat": 4,
 "nbformat_minor": 5
}
